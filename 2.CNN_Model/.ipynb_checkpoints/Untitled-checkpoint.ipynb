{
 "cells": [
  {
   "cell_type": "code",
   "execution_count": 16,
   "metadata": {},
   "outputs": [],
   "source": [
    "import numpy as np\n",
    "from keras.models import Sequential\n",
    "from keras.layers import Dense, Conv1D, MaxPooling1D, Dropout, GlobalMaxPooling1D, Embedding\n",
    "#from tensorflow.keras.callbacks import ModelCheckpoint\n",
    "#from tensorflow.keras.layers import Flatten\n",
    "#from tensorflow.keras.layers.Embedding import \n",
    "from keras.preprocessing import sequence\n",
    "from sklearn.metrics import confusion_matrix\n",
    "import math"
   ]
  },
  {
   "cell_type": "code",
   "execution_count": 17,
   "metadata": {},
   "outputs": [
    {
     "name": "stdout",
     "output_type": "stream",
     "text": [
      "1 Iteration\n",
      "Train on 1715 samples, validate on 575 samples\n",
      "Epoch 1/12\n",
      "1715/1715 [==============================] - 2s 1ms/step - loss: 0.4377 - acc: 0.8653 - val_loss: 0.3826 - val_acc: 0.8609\n",
      "Epoch 2/12\n",
      "1715/1715 [==============================] - 2s 882us/step - loss: 0.3555 - acc: 0.8653 - val_loss: 0.3492 - val_acc: 0.8609\n",
      "Epoch 3/12\n",
      "1715/1715 [==============================] - 2s 958us/step - loss: 0.2994 - acc: 0.8676 - val_loss: 0.3026 - val_acc: 0.8557\n",
      "Epoch 4/12\n",
      "1715/1715 [==============================] - 2s 1ms/step - loss: 0.2295 - acc: 0.8991 - val_loss: 0.2447 - val_acc: 0.9043\n",
      "Epoch 5/12\n",
      "1715/1715 [==============================] - 2s 1ms/step - loss: 0.1566 - acc: 0.9370 - val_loss: 0.1655 - val_acc: 0.9200\n",
      "Epoch 6/12\n",
      "1715/1715 [==============================] - 2s 977us/step - loss: 0.0755 - acc: 0.9720 - val_loss: 0.0858 - val_acc: 0.9722\n",
      "Epoch 7/12\n",
      "1715/1715 [==============================] - 2s 985us/step - loss: 0.0312 - acc: 0.9907 - val_loss: 0.0578 - val_acc: 0.9826\n",
      "Epoch 8/12\n",
      "1715/1715 [==============================] - 2s 1ms/step - loss: 0.0208 - acc: 0.9942 - val_loss: 0.0549 - val_acc: 0.9791\n",
      "Epoch 9/12\n",
      "1715/1715 [==============================] - 2s 1ms/step - loss: 0.0170 - acc: 0.9965 - val_loss: 0.0479 - val_acc: 0.9826\n",
      "Epoch 10/12\n",
      "1715/1715 [==============================] - 2s 875us/step - loss: 0.0130 - acc: 0.9977 - val_loss: 0.0420 - val_acc: 0.9809\n",
      "Epoch 11/12\n",
      "1715/1715 [==============================] - 2s 875us/step - loss: 0.0142 - acc: 0.9959 - val_loss: 0.0396 - val_acc: 0.9809\n",
      "Epoch 12/12\n",
      "1715/1715 [==============================] - 2s 1ms/step - loss: 0.0101 - acc: 0.9977 - val_loss: 0.0386 - val_acc: 0.9843\n",
      "575/575 [==============================] - 0s 259us/step\n",
      "Test loss: 0.038590791597544805\n",
      "Test accuracy: 0.9843478260869565 \n",
      "\n"
     ]
    }
   ],
   "source": [
    "data = np.load('ER_dataset.npz')\n",
    "max_protein_length=100\n",
    "input_dim=21\n",
    "\n",
    "n_filters=110\n",
    "kernel_size=7\n",
    "dropout=0.25\n",
    "maxpooling_size=2\n",
    "n_layers=[0]\n",
    "\n",
    "\n",
    "activation='relu'\n",
    "activation_out='sigmoid'\n",
    "padding='same'\n",
    "\n",
    "optimizer='adam'\n",
    "loss='binary_crossentropy'\n",
    "metrics=['accuracy']\n",
    "\n",
    "n_classes=1\n",
    "epochs=12\n",
    "batch_size=64\n",
    "verbose=1\n",
    "\n",
    "\n",
    "X = data['input']\n",
    "y = data['label']\n",
    "part = data['partition']\n",
    "#length = data['length']\n",
    "\n",
    "test = 4\n",
    "not_test = [0,1,2,3]\n",
    "#test_indices = np.where(part == test)\n",
    "\n",
    "performances = []\n",
    "# Cross validation loop\n",
    "for partition in not_test:\n",
    "    train_indices = np.where((part != partition)&(part != test))\n",
    "    val_indices = np.where(part == partition)        \n",
    "\n",
    "    # Last 100aa in proteins\n",
    "    X = sequence.pad_sequences(X, maxlen=max_protein_length)\n",
    "    X = X[:,-max_protein_length:]\n",
    "    X_train = X[train_indices] \n",
    "    y_train = y[train_indices]\n",
    "    X_val = X[val_indices]\n",
    "    y_val = y[val_indices]\n",
    "\n",
    "    model = Sequential()\n",
    "    model.add(Embedding(input_dim, n_filters)) #21 is the one hot..\n",
    "    model.add(MaxPooling1D(pool_size=maxpooling_size))\n",
    "    #model.add(Dropout(dropout))\n",
    "\n",
    "    for n in n_layers:\n",
    "        model.add(Conv1D(n_filters, kernel_size, activation=activation, padding=padding)) \n",
    "        #model.add(MaxPooling1D(pool_size=maxpooling_size))\n",
    "\n",
    "    model.add(GlobalMaxPooling1D())\n",
    "\n",
    "    #model.add(Flatten())\n",
    "    model.add(Dense(n_filters, activation=activation))\n",
    "    model.add(Dense(n_classes, activation=activation_out))\n",
    "    model.compile(optimizer=optimizer, loss=loss, metrics=metrics) #add matthews correlation coefficient, as this will be taken into account.\n",
    "\n",
    "    # Training model\n",
    "    print(partition + 1, 'Iteration')\n",
    "    file_model = \"model_%i.hdf5\" % partition\n",
    "    #mcp_save = ModelCheckpoint(file_model, save_best_only=True, monitor='val_loss', mode='min')\n",
    "    model.fit(X_train, y_train, validation_data=(X_val, y_val), epochs=epochs, batch_size=batch_size, verbose=verbose)\n",
    "\n",
    "    #model.load_weights(filepath = file_model)\n",
    "    scores = model.evaluate(X_val, y_val)\n",
    "    print('Test loss:', scores[0])\n",
    "    print('Test accuracy:', scores[1], '\\n')\n",
    "    break\n",
    "\n",
    "    "
   ]
  },
  {
   "cell_type": "code",
   "execution_count": 21,
   "metadata": {},
   "outputs": [
    {
     "name": "stdout",
     "output_type": "stream",
     "text": [
      "_________________________________________________________________\n",
      "Layer (type)                 Output Shape              Param #   \n",
      "=================================================================\n",
      "embedding_2 (Embedding)      (None, 100, 110)          2310      \n",
      "_________________________________________________________________\n",
      "max_pooling1d_2 (MaxPooling1 (None, 50, 110)           0         \n",
      "_________________________________________________________________\n",
      "dropout_2 (Dropout)          (None, 50, 110)           0         \n",
      "_________________________________________________________________\n",
      "conv1d_2 (Conv1D)            (None, 50, 110)           84810     \n",
      "_________________________________________________________________\n",
      "global_max_pooling1d_2 (Glob (None, 110)               0         \n",
      "_________________________________________________________________\n",
      "dense_3 (Dense)              (None, 110)               12210     \n",
      "_________________________________________________________________\n",
      "dense_4 (Dense)              (None, 1)                 111       \n",
      "=================================================================\n",
      "Total params: 99,441\n",
      "Trainable params: 99,441\n",
      "Non-trainable params: 0\n",
      "_________________________________________________________________\n"
     ]
    }
   ],
   "source": [
    "model.summary()"
   ]
  },
  {
   "cell_type": "code",
   "execution_count": 18,
   "metadata": {},
   "outputs": [],
   "source": [
    "import shap\n",
    "e = shap.DeepExplainer(model, X_train[:50])"
   ]
  },
  {
   "cell_type": "code",
   "execution_count": 19,
   "metadata": {},
   "outputs": [
    {
     "name": "stdout",
     "output_type": "stream",
     "text": [
      "(575, 100)\n"
     ]
    }
   ],
   "source": [
    "print(X_val.shape)"
   ]
  },
  {
   "cell_type": "code",
   "execution_count": 20,
   "metadata": {},
   "outputs": [
    {
     "ename": "InvalidArgumentError",
     "evalue": "Incompatible shapes: [100,110] vs. [100,50,110]\n\t [[{{node gradients_2/global_max_pooling1d_2/Max_grad/mul_1}} = Mul[T=DT_FLOAT, _device=\"/job:localhost/replica:0/task:0/device:CPU:0\"](gradients_2/dense_3/MatMul_grad/MatMul, gradients_2/global_max_pooling1d_2/Max_grad/Tile_1)]]\n\nCaused by op 'gradients_2/global_max_pooling1d_2/Max_grad/mul_1', defined at:\n  File \"/Users/sofieolundvillumsen/anaconda/lib/python3.6/runpy.py\", line 193, in _run_module_as_main\n    \"__main__\", mod_spec)\n  File \"/Users/sofieolundvillumsen/anaconda/lib/python3.6/runpy.py\", line 85, in _run_code\n    exec(code, run_globals)\n  File \"/Users/sofieolundvillumsen/anaconda/lib/python3.6/site-packages/ipykernel_launcher.py\", line 16, in <module>\n    app.launch_new_instance()\n  File \"/Users/sofieolundvillumsen/anaconda/lib/python3.6/site-packages/traitlets/config/application.py\", line 658, in launch_instance\n    app.start()\n  File \"/Users/sofieolundvillumsen/anaconda/lib/python3.6/site-packages/ipykernel/kernelapp.py\", line 477, in start\n    ioloop.IOLoop.instance().start()\n  File \"/Users/sofieolundvillumsen/anaconda/lib/python3.6/site-packages/zmq/eventloop/ioloop.py\", line 177, in start\n    super(ZMQIOLoop, self).start()\n  File \"/Users/sofieolundvillumsen/anaconda/lib/python3.6/site-packages/tornado/ioloop.py\", line 888, in start\n    handler_func(fd_obj, events)\n  File \"/Users/sofieolundvillumsen/anaconda/lib/python3.6/site-packages/tornado/stack_context.py\", line 277, in null_wrapper\n    return fn(*args, **kwargs)\n  File \"/Users/sofieolundvillumsen/anaconda/lib/python3.6/site-packages/zmq/eventloop/zmqstream.py\", line 440, in _handle_events\n    self._handle_recv()\n  File \"/Users/sofieolundvillumsen/anaconda/lib/python3.6/site-packages/zmq/eventloop/zmqstream.py\", line 472, in _handle_recv\n    self._run_callback(callback, msg)\n  File \"/Users/sofieolundvillumsen/anaconda/lib/python3.6/site-packages/zmq/eventloop/zmqstream.py\", line 414, in _run_callback\n    callback(*args, **kwargs)\n  File \"/Users/sofieolundvillumsen/anaconda/lib/python3.6/site-packages/tornado/stack_context.py\", line 277, in null_wrapper\n    return fn(*args, **kwargs)\n  File \"/Users/sofieolundvillumsen/anaconda/lib/python3.6/site-packages/ipykernel/kernelbase.py\", line 283, in dispatcher\n    return self.dispatch_shell(stream, msg)\n  File \"/Users/sofieolundvillumsen/anaconda/lib/python3.6/site-packages/ipykernel/kernelbase.py\", line 235, in dispatch_shell\n    handler(stream, idents, msg)\n  File \"/Users/sofieolundvillumsen/anaconda/lib/python3.6/site-packages/ipykernel/kernelbase.py\", line 399, in execute_request\n    user_expressions, allow_stdin)\n  File \"/Users/sofieolundvillumsen/anaconda/lib/python3.6/site-packages/ipykernel/ipkernel.py\", line 196, in do_execute\n    res = shell.run_cell(code, store_history=store_history, silent=silent)\n  File \"/Users/sofieolundvillumsen/anaconda/lib/python3.6/site-packages/ipykernel/zmqshell.py\", line 533, in run_cell\n    return super(ZMQInteractiveShell, self).run_cell(*args, **kwargs)\n  File \"/Users/sofieolundvillumsen/anaconda/lib/python3.6/site-packages/IPython/core/interactiveshell.py\", line 2717, in run_cell\n    interactivity=interactivity, compiler=compiler, result=result)\n  File \"/Users/sofieolundvillumsen/anaconda/lib/python3.6/site-packages/IPython/core/interactiveshell.py\", line 2821, in run_ast_nodes\n    if self.run_code(code, result):\n  File \"/Users/sofieolundvillumsen/anaconda/lib/python3.6/site-packages/IPython/core/interactiveshell.py\", line 2881, in run_code\n    exec(code_obj, self.user_global_ns, self.user_ns)\n  File \"<ipython-input-20-43a9d25149f2>\", line 1, in <module>\n    shap_values = e.shap_values(X_val[:5])\n  File \"/Users/sofieolundvillumsen/anaconda/lib/python3.6/site-packages/shap/explainers/deep/__init__.py\", line 117, in shap_values\n    return self.explainer.shap_values(X, ranked_outputs, output_rank_order)\n  File \"/Users/sofieolundvillumsen/anaconda/lib/python3.6/site-packages/shap/explainers/deep/deep_tf.py\", line 250, in shap_values\n    sample_phis = self.run(self.phi_symbolic(feature_ind), self.model_inputs, joint_input)\n  File \"/Users/sofieolundvillumsen/anaconda/lib/python3.6/site-packages/shap/explainers/deep/deep_tf.py\", line 196, in phi_symbolic\n    self.phi_symbolics[i] = tf.gradients(out, self.model_inputs)\n  File \"/Users/sofieolundvillumsen/anaconda/lib/python3.6/site-packages/tensorflow/python/ops/gradients_impl.py\", line 596, in gradients\n    gate_gradients, aggregation_method, stop_gradients)\n  File \"/Users/sofieolundvillumsen/anaconda/lib/python3.6/site-packages/tensorflow/python/ops/gradients_impl.py\", line 776, in _GradientsHelper\n    lambda: grad_fn(op, *out_grads))\n  File \"/Users/sofieolundvillumsen/anaconda/lib/python3.6/site-packages/tensorflow/python/ops/gradients_impl.py\", line 398, in _MaybeCompile\n    return grad_fn()  # Exit early\n  File \"/Users/sofieolundvillumsen/anaconda/lib/python3.6/site-packages/tensorflow/python/ops/gradients_impl.py\", line 776, in <lambda>\n    lambda: grad_fn(op, *out_grads))\n  File \"/Users/sofieolundvillumsen/anaconda/lib/python3.6/site-packages/shap/explainers/deep/deep_tf.py\", line 275, in custom_grad\n    return op_handlers[op.type](self, op, *grads)\n  File \"/Users/sofieolundvillumsen/anaconda/lib/python3.6/site-packages/shap/explainers/deep/deep_tf.py\", line 419, in handler\n    return nonlinearity_1d_handler(input_ind, explainer, op, *grads)\n  File \"/Users/sofieolundvillumsen/anaconda/lib/python3.6/site-packages/shap/explainers/deep/deep_tf.py\", line 438, in nonlinearity_1d_handler\n    grads[0] * tf.tile((xout - rout) / delta_in0, dup0)\n  File \"/Users/sofieolundvillumsen/anaconda/lib/python3.6/site-packages/tensorflow/python/ops/math_ops.py\", line 862, in binary_op_wrapper\n    return func(x, y, name=name)\n  File \"/Users/sofieolundvillumsen/anaconda/lib/python3.6/site-packages/tensorflow/python/ops/math_ops.py\", line 1129, in _mul_dispatch\n    return gen_math_ops.mul(x, y, name=name)\n  File \"/Users/sofieolundvillumsen/anaconda/lib/python3.6/site-packages/tensorflow/python/ops/gen_math_ops.py\", line 5042, in mul\n    \"Mul\", x=x, y=y, name=name)\n  File \"/Users/sofieolundvillumsen/anaconda/lib/python3.6/site-packages/tensorflow/python/framework/op_def_library.py\", line 787, in _apply_op_helper\n    op_def=op_def)\n  File \"/Users/sofieolundvillumsen/anaconda/lib/python3.6/site-packages/tensorflow/python/util/deprecation.py\", line 488, in new_func\n    return func(*args, **kwargs)\n  File \"/Users/sofieolundvillumsen/anaconda/lib/python3.6/site-packages/tensorflow/python/framework/ops.py\", line 3272, in create_op\n    op_def=op_def)\n  File \"/Users/sofieolundvillumsen/anaconda/lib/python3.6/site-packages/tensorflow/python/framework/ops.py\", line 1768, in __init__\n    self._traceback = tf_stack.extract_stack()\n\n...which was originally created as op 'global_max_pooling1d_2/Max', defined at:\n  File \"/Users/sofieolundvillumsen/anaconda/lib/python3.6/runpy.py\", line 193, in _run_module_as_main\n    \"__main__\", mod_spec)\n[elided 18 identical lines from previous traceback]\n  File \"/Users/sofieolundvillumsen/anaconda/lib/python3.6/site-packages/IPython/core/interactiveshell.py\", line 2881, in run_code\n    exec(code_obj, self.user_global_ns, self.user_ns)\n  File \"<ipython-input-17-6ec30d6134b0>\", line 58, in <module>\n    model.add(GlobalMaxPooling1D())\n  File \"/Users/sofieolundvillumsen/anaconda/lib/python3.6/site-packages/keras/engine/sequential.py\", line 181, in add\n    output_tensor = layer(self.outputs[0])\n  File \"/Users/sofieolundvillumsen/anaconda/lib/python3.6/site-packages/keras/engine/base_layer.py\", line 457, in __call__\n    output = self.call(inputs, **kwargs)\n  File \"/Users/sofieolundvillumsen/anaconda/lib/python3.6/site-packages/keras/layers/pooling.py\", line 584, in call\n    return K.max(inputs, axis=steps_axis)\n  File \"/Users/sofieolundvillumsen/anaconda/lib/python3.6/site-packages/keras/backend/tensorflow_backend.py\", line 1250, in max\n    return tf.reduce_max(x, axis, keepdims)\n  File \"/Users/sofieolundvillumsen/anaconda/lib/python3.6/site-packages/tensorflow/python/util/deprecation.py\", line 488, in new_func\n    return func(*args, **kwargs)\n  File \"/Users/sofieolundvillumsen/anaconda/lib/python3.6/site-packages/tensorflow/python/ops/math_ops.py\", line 1640, in reduce_max\n    name=name))\n  File \"/Users/sofieolundvillumsen/anaconda/lib/python3.6/site-packages/tensorflow/python/ops/gen_math_ops.py\", line 4641, in _max\n    name=name)\n  File \"/Users/sofieolundvillumsen/anaconda/lib/python3.6/site-packages/tensorflow/python/framework/op_def_library.py\", line 787, in _apply_op_helper\n    op_def=op_def)\n  File \"/Users/sofieolundvillumsen/anaconda/lib/python3.6/site-packages/tensorflow/python/util/deprecation.py\", line 488, in new_func\n    return func(*args, **kwargs)\n  File \"/Users/sofieolundvillumsen/anaconda/lib/python3.6/site-packages/tensorflow/python/framework/ops.py\", line 3272, in create_op\n    op_def=op_def)\n  File \"/Users/sofieolundvillumsen/anaconda/lib/python3.6/site-packages/tensorflow/python/framework/ops.py\", line 1768, in __init__\n    self._traceback = tf_stack.extract_stack()\n\nInvalidArgumentError (see above for traceback): Incompatible shapes: [100,110] vs. [100,50,110]\n\t [[{{node gradients_2/global_max_pooling1d_2/Max_grad/mul_1}} = Mul[T=DT_FLOAT, _device=\"/job:localhost/replica:0/task:0/device:CPU:0\"](gradients_2/dense_3/MatMul_grad/MatMul, gradients_2/global_max_pooling1d_2/Max_grad/Tile_1)]]\n",
     "output_type": "error",
     "traceback": [
      "\u001b[0;31m---------------------------------------------------------------------------\u001b[0m",
      "\u001b[0;31mInvalidArgumentError\u001b[0m                      Traceback (most recent call last)",
      "\u001b[0;32m/Users/sofieolundvillumsen/anaconda/lib/python3.6/site-packages/tensorflow/python/client/session.py\u001b[0m in \u001b[0;36m_do_call\u001b[0;34m(self, fn, *args)\u001b[0m\n\u001b[1;32m   1291\u001b[0m     \u001b[0;32mtry\u001b[0m\u001b[0;34m:\u001b[0m\u001b[0;34m\u001b[0m\u001b[0m\n\u001b[0;32m-> 1292\u001b[0;31m       \u001b[0;32mreturn\u001b[0m \u001b[0mfn\u001b[0m\u001b[0;34m(\u001b[0m\u001b[0;34m*\u001b[0m\u001b[0margs\u001b[0m\u001b[0;34m)\u001b[0m\u001b[0;34m\u001b[0m\u001b[0m\n\u001b[0m\u001b[1;32m   1293\u001b[0m     \u001b[0;32mexcept\u001b[0m \u001b[0merrors\u001b[0m\u001b[0;34m.\u001b[0m\u001b[0mOpError\u001b[0m \u001b[0;32mas\u001b[0m \u001b[0me\u001b[0m\u001b[0;34m:\u001b[0m\u001b[0;34m\u001b[0m\u001b[0m\n",
      "\u001b[0;32m/Users/sofieolundvillumsen/anaconda/lib/python3.6/site-packages/tensorflow/python/client/session.py\u001b[0m in \u001b[0;36m_run_fn\u001b[0;34m(feed_dict, fetch_list, target_list, options, run_metadata)\u001b[0m\n\u001b[1;32m   1276\u001b[0m       return self._call_tf_sessionrun(\n\u001b[0;32m-> 1277\u001b[0;31m           options, feed_dict, fetch_list, target_list, run_metadata)\n\u001b[0m\u001b[1;32m   1278\u001b[0m \u001b[0;34m\u001b[0m\u001b[0m\n",
      "\u001b[0;32m/Users/sofieolundvillumsen/anaconda/lib/python3.6/site-packages/tensorflow/python/client/session.py\u001b[0m in \u001b[0;36m_call_tf_sessionrun\u001b[0;34m(self, options, feed_dict, fetch_list, target_list, run_metadata)\u001b[0m\n\u001b[1;32m   1366\u001b[0m         \u001b[0mself\u001b[0m\u001b[0;34m.\u001b[0m\u001b[0m_session\u001b[0m\u001b[0;34m,\u001b[0m \u001b[0moptions\u001b[0m\u001b[0;34m,\u001b[0m \u001b[0mfeed_dict\u001b[0m\u001b[0;34m,\u001b[0m \u001b[0mfetch_list\u001b[0m\u001b[0;34m,\u001b[0m \u001b[0mtarget_list\u001b[0m\u001b[0;34m,\u001b[0m\u001b[0;34m\u001b[0m\u001b[0m\n\u001b[0;32m-> 1367\u001b[0;31m         run_metadata)\n\u001b[0m\u001b[1;32m   1368\u001b[0m \u001b[0;34m\u001b[0m\u001b[0m\n",
      "\u001b[0;31mInvalidArgumentError\u001b[0m: Incompatible shapes: [100,110] vs. [100,50,110]\n\t [[{{node gradients_2/global_max_pooling1d_2/Max_grad/mul_1}} = Mul[T=DT_FLOAT, _device=\"/job:localhost/replica:0/task:0/device:CPU:0\"](gradients_2/dense_3/MatMul_grad/MatMul, gradients_2/global_max_pooling1d_2/Max_grad/Tile_1)]]",
      "\nDuring handling of the above exception, another exception occurred:\n",
      "\u001b[0;31mInvalidArgumentError\u001b[0m                      Traceback (most recent call last)",
      "\u001b[0;32m<ipython-input-20-43a9d25149f2>\u001b[0m in \u001b[0;36m<module>\u001b[0;34m()\u001b[0m\n\u001b[0;32m----> 1\u001b[0;31m \u001b[0mshap_values\u001b[0m \u001b[0;34m=\u001b[0m \u001b[0me\u001b[0m\u001b[0;34m.\u001b[0m\u001b[0mshap_values\u001b[0m\u001b[0;34m(\u001b[0m\u001b[0mX_val\u001b[0m\u001b[0;34m[\u001b[0m\u001b[0;34m:\u001b[0m\u001b[0;36m5\u001b[0m\u001b[0;34m]\u001b[0m\u001b[0;34m)\u001b[0m\u001b[0;34m\u001b[0m\u001b[0m\n\u001b[0m",
      "\u001b[0;32m/Users/sofieolundvillumsen/anaconda/lib/python3.6/site-packages/shap/explainers/deep/__init__.py\u001b[0m in \u001b[0;36mshap_values\u001b[0;34m(self, X, ranked_outputs, output_rank_order)\u001b[0m\n\u001b[1;32m    115\u001b[0m         \u001b[0mwere\u001b[0m \u001b[0mchosen\u001b[0m \u001b[0;32mas\u001b[0m \u001b[0;34m\"top\"\u001b[0m\u001b[0;34m.\u001b[0m\u001b[0;34m\u001b[0m\u001b[0m\n\u001b[1;32m    116\u001b[0m         \"\"\"\n\u001b[0;32m--> 117\u001b[0;31m         \u001b[0;32mreturn\u001b[0m \u001b[0mself\u001b[0m\u001b[0;34m.\u001b[0m\u001b[0mexplainer\u001b[0m\u001b[0;34m.\u001b[0m\u001b[0mshap_values\u001b[0m\u001b[0;34m(\u001b[0m\u001b[0mX\u001b[0m\u001b[0;34m,\u001b[0m \u001b[0mranked_outputs\u001b[0m\u001b[0;34m,\u001b[0m \u001b[0moutput_rank_order\u001b[0m\u001b[0;34m)\u001b[0m\u001b[0;34m\u001b[0m\u001b[0m\n\u001b[0m",
      "\u001b[0;32m/Users/sofieolundvillumsen/anaconda/lib/python3.6/site-packages/shap/explainers/deep/deep_tf.py\u001b[0m in \u001b[0;36mshap_values\u001b[0;34m(self, X, ranked_outputs, output_rank_order)\u001b[0m\n\u001b[1;32m    248\u001b[0m                 \u001b[0;31m# run attribution computation graph\u001b[0m\u001b[0;34m\u001b[0m\u001b[0;34m\u001b[0m\u001b[0m\n\u001b[1;32m    249\u001b[0m                 \u001b[0mfeature_ind\u001b[0m \u001b[0;34m=\u001b[0m \u001b[0mmodel_output_ranks\u001b[0m\u001b[0;34m[\u001b[0m\u001b[0mj\u001b[0m\u001b[0;34m,\u001b[0m\u001b[0mi\u001b[0m\u001b[0;34m]\u001b[0m\u001b[0;34m\u001b[0m\u001b[0m\n\u001b[0;32m--> 250\u001b[0;31m                 \u001b[0msample_phis\u001b[0m \u001b[0;34m=\u001b[0m \u001b[0mself\u001b[0m\u001b[0;34m.\u001b[0m\u001b[0mrun\u001b[0m\u001b[0;34m(\u001b[0m\u001b[0mself\u001b[0m\u001b[0;34m.\u001b[0m\u001b[0mphi_symbolic\u001b[0m\u001b[0;34m(\u001b[0m\u001b[0mfeature_ind\u001b[0m\u001b[0;34m)\u001b[0m\u001b[0;34m,\u001b[0m \u001b[0mself\u001b[0m\u001b[0;34m.\u001b[0m\u001b[0mmodel_inputs\u001b[0m\u001b[0;34m,\u001b[0m \u001b[0mjoint_input\u001b[0m\u001b[0;34m)\u001b[0m\u001b[0;34m\u001b[0m\u001b[0m\n\u001b[0m\u001b[1;32m    251\u001b[0m \u001b[0;34m\u001b[0m\u001b[0m\n\u001b[1;32m    252\u001b[0m                 \u001b[0;31m# assign the attributions to the right part of the output arrays\u001b[0m\u001b[0;34m\u001b[0m\u001b[0;34m\u001b[0m\u001b[0m\n",
      "\u001b[0;32m/Users/sofieolundvillumsen/anaconda/lib/python3.6/site-packages/shap/explainers/deep/deep_tf.py\u001b[0m in \u001b[0;36mrun\u001b[0;34m(self, out, model_inputs, X)\u001b[0m\n\u001b[1;32m    268\u001b[0m         \u001b[0;32mfor\u001b[0m \u001b[0mt\u001b[0m \u001b[0;32min\u001b[0m \u001b[0mself\u001b[0m\u001b[0;34m.\u001b[0m\u001b[0mlearning_phase_flags\u001b[0m\u001b[0;34m:\u001b[0m\u001b[0;34m\u001b[0m\u001b[0m\n\u001b[1;32m    269\u001b[0m             \u001b[0mfeed_dict\u001b[0m\u001b[0;34m[\u001b[0m\u001b[0mt\u001b[0m\u001b[0;34m]\u001b[0m \u001b[0;34m=\u001b[0m \u001b[0;32mFalse\u001b[0m\u001b[0;34m\u001b[0m\u001b[0m\n\u001b[0;32m--> 270\u001b[0;31m         \u001b[0;32mreturn\u001b[0m \u001b[0mself\u001b[0m\u001b[0;34m.\u001b[0m\u001b[0msession\u001b[0m\u001b[0;34m.\u001b[0m\u001b[0mrun\u001b[0m\u001b[0;34m(\u001b[0m\u001b[0mout\u001b[0m\u001b[0;34m,\u001b[0m \u001b[0mfeed_dict\u001b[0m\u001b[0;34m)\u001b[0m\u001b[0;34m\u001b[0m\u001b[0m\n\u001b[0m\u001b[1;32m    271\u001b[0m \u001b[0;34m\u001b[0m\u001b[0m\n\u001b[1;32m    272\u001b[0m     \u001b[0;32mdef\u001b[0m \u001b[0mcustom_grad\u001b[0m\u001b[0;34m(\u001b[0m\u001b[0mself\u001b[0m\u001b[0;34m,\u001b[0m \u001b[0mop\u001b[0m\u001b[0;34m,\u001b[0m \u001b[0;34m*\u001b[0m\u001b[0mgrads\u001b[0m\u001b[0;34m)\u001b[0m\u001b[0;34m:\u001b[0m\u001b[0;34m\u001b[0m\u001b[0m\n",
      "\u001b[0;32m/Users/sofieolundvillumsen/anaconda/lib/python3.6/site-packages/tensorflow/python/client/session.py\u001b[0m in \u001b[0;36mrun\u001b[0;34m(self, fetches, feed_dict, options, run_metadata)\u001b[0m\n\u001b[1;32m    885\u001b[0m     \u001b[0;32mtry\u001b[0m\u001b[0;34m:\u001b[0m\u001b[0;34m\u001b[0m\u001b[0m\n\u001b[1;32m    886\u001b[0m       result = self._run(None, fetches, feed_dict, options_ptr,\n\u001b[0;32m--> 887\u001b[0;31m                          run_metadata_ptr)\n\u001b[0m\u001b[1;32m    888\u001b[0m       \u001b[0;32mif\u001b[0m \u001b[0mrun_metadata\u001b[0m\u001b[0;34m:\u001b[0m\u001b[0;34m\u001b[0m\u001b[0m\n\u001b[1;32m    889\u001b[0m         \u001b[0mproto_data\u001b[0m \u001b[0;34m=\u001b[0m \u001b[0mtf_session\u001b[0m\u001b[0;34m.\u001b[0m\u001b[0mTF_GetBuffer\u001b[0m\u001b[0;34m(\u001b[0m\u001b[0mrun_metadata_ptr\u001b[0m\u001b[0;34m)\u001b[0m\u001b[0;34m\u001b[0m\u001b[0m\n",
      "\u001b[0;32m/Users/sofieolundvillumsen/anaconda/lib/python3.6/site-packages/tensorflow/python/client/session.py\u001b[0m in \u001b[0;36m_run\u001b[0;34m(self, handle, fetches, feed_dict, options, run_metadata)\u001b[0m\n\u001b[1;32m   1108\u001b[0m     \u001b[0;32mif\u001b[0m \u001b[0mfinal_fetches\u001b[0m \u001b[0;32mor\u001b[0m \u001b[0mfinal_targets\u001b[0m \u001b[0;32mor\u001b[0m \u001b[0;34m(\u001b[0m\u001b[0mhandle\u001b[0m \u001b[0;32mand\u001b[0m \u001b[0mfeed_dict_tensor\u001b[0m\u001b[0;34m)\u001b[0m\u001b[0;34m:\u001b[0m\u001b[0;34m\u001b[0m\u001b[0m\n\u001b[1;32m   1109\u001b[0m       results = self._do_run(handle, final_targets, final_fetches,\n\u001b[0;32m-> 1110\u001b[0;31m                              feed_dict_tensor, options, run_metadata)\n\u001b[0m\u001b[1;32m   1111\u001b[0m     \u001b[0;32melse\u001b[0m\u001b[0;34m:\u001b[0m\u001b[0;34m\u001b[0m\u001b[0m\n\u001b[1;32m   1112\u001b[0m       \u001b[0mresults\u001b[0m \u001b[0;34m=\u001b[0m \u001b[0;34m[\u001b[0m\u001b[0;34m]\u001b[0m\u001b[0;34m\u001b[0m\u001b[0m\n",
      "\u001b[0;32m/Users/sofieolundvillumsen/anaconda/lib/python3.6/site-packages/tensorflow/python/client/session.py\u001b[0m in \u001b[0;36m_do_run\u001b[0;34m(self, handle, target_list, fetch_list, feed_dict, options, run_metadata)\u001b[0m\n\u001b[1;32m   1284\u001b[0m     \u001b[0;32mif\u001b[0m \u001b[0mhandle\u001b[0m \u001b[0;32mis\u001b[0m \u001b[0;32mNone\u001b[0m\u001b[0;34m:\u001b[0m\u001b[0;34m\u001b[0m\u001b[0m\n\u001b[1;32m   1285\u001b[0m       return self._do_call(_run_fn, feeds, fetches, targets, options,\n\u001b[0;32m-> 1286\u001b[0;31m                            run_metadata)\n\u001b[0m\u001b[1;32m   1287\u001b[0m     \u001b[0;32melse\u001b[0m\u001b[0;34m:\u001b[0m\u001b[0;34m\u001b[0m\u001b[0m\n\u001b[1;32m   1288\u001b[0m       \u001b[0;32mreturn\u001b[0m \u001b[0mself\u001b[0m\u001b[0;34m.\u001b[0m\u001b[0m_do_call\u001b[0m\u001b[0;34m(\u001b[0m\u001b[0m_prun_fn\u001b[0m\u001b[0;34m,\u001b[0m \u001b[0mhandle\u001b[0m\u001b[0;34m,\u001b[0m \u001b[0mfeeds\u001b[0m\u001b[0;34m,\u001b[0m \u001b[0mfetches\u001b[0m\u001b[0;34m)\u001b[0m\u001b[0;34m\u001b[0m\u001b[0m\n",
      "\u001b[0;32m/Users/sofieolundvillumsen/anaconda/lib/python3.6/site-packages/tensorflow/python/client/session.py\u001b[0m in \u001b[0;36m_do_call\u001b[0;34m(self, fn, *args)\u001b[0m\n\u001b[1;32m   1306\u001b[0m           self._config.experimental.client_handles_error_formatting):\n\u001b[1;32m   1307\u001b[0m         \u001b[0mmessage\u001b[0m \u001b[0;34m=\u001b[0m \u001b[0merror_interpolation\u001b[0m\u001b[0;34m.\u001b[0m\u001b[0minterpolate\u001b[0m\u001b[0;34m(\u001b[0m\u001b[0mmessage\u001b[0m\u001b[0;34m,\u001b[0m \u001b[0mself\u001b[0m\u001b[0;34m.\u001b[0m\u001b[0m_graph\u001b[0m\u001b[0;34m)\u001b[0m\u001b[0;34m\u001b[0m\u001b[0m\n\u001b[0;32m-> 1308\u001b[0;31m       \u001b[0;32mraise\u001b[0m \u001b[0mtype\u001b[0m\u001b[0;34m(\u001b[0m\u001b[0me\u001b[0m\u001b[0;34m)\u001b[0m\u001b[0;34m(\u001b[0m\u001b[0mnode_def\u001b[0m\u001b[0;34m,\u001b[0m \u001b[0mop\u001b[0m\u001b[0;34m,\u001b[0m \u001b[0mmessage\u001b[0m\u001b[0;34m)\u001b[0m\u001b[0;34m\u001b[0m\u001b[0m\n\u001b[0m\u001b[1;32m   1309\u001b[0m \u001b[0;34m\u001b[0m\u001b[0m\n\u001b[1;32m   1310\u001b[0m   \u001b[0;32mdef\u001b[0m \u001b[0m_extend_graph\u001b[0m\u001b[0;34m(\u001b[0m\u001b[0mself\u001b[0m\u001b[0;34m)\u001b[0m\u001b[0;34m:\u001b[0m\u001b[0;34m\u001b[0m\u001b[0m\n",
      "\u001b[0;31mInvalidArgumentError\u001b[0m: Incompatible shapes: [100,110] vs. [100,50,110]\n\t [[{{node gradients_2/global_max_pooling1d_2/Max_grad/mul_1}} = Mul[T=DT_FLOAT, _device=\"/job:localhost/replica:0/task:0/device:CPU:0\"](gradients_2/dense_3/MatMul_grad/MatMul, gradients_2/global_max_pooling1d_2/Max_grad/Tile_1)]]\n\nCaused by op 'gradients_2/global_max_pooling1d_2/Max_grad/mul_1', defined at:\n  File \"/Users/sofieolundvillumsen/anaconda/lib/python3.6/runpy.py\", line 193, in _run_module_as_main\n    \"__main__\", mod_spec)\n  File \"/Users/sofieolundvillumsen/anaconda/lib/python3.6/runpy.py\", line 85, in _run_code\n    exec(code, run_globals)\n  File \"/Users/sofieolundvillumsen/anaconda/lib/python3.6/site-packages/ipykernel_launcher.py\", line 16, in <module>\n    app.launch_new_instance()\n  File \"/Users/sofieolundvillumsen/anaconda/lib/python3.6/site-packages/traitlets/config/application.py\", line 658, in launch_instance\n    app.start()\n  File \"/Users/sofieolundvillumsen/anaconda/lib/python3.6/site-packages/ipykernel/kernelapp.py\", line 477, in start\n    ioloop.IOLoop.instance().start()\n  File \"/Users/sofieolundvillumsen/anaconda/lib/python3.6/site-packages/zmq/eventloop/ioloop.py\", line 177, in start\n    super(ZMQIOLoop, self).start()\n  File \"/Users/sofieolundvillumsen/anaconda/lib/python3.6/site-packages/tornado/ioloop.py\", line 888, in start\n    handler_func(fd_obj, events)\n  File \"/Users/sofieolundvillumsen/anaconda/lib/python3.6/site-packages/tornado/stack_context.py\", line 277, in null_wrapper\n    return fn(*args, **kwargs)\n  File \"/Users/sofieolundvillumsen/anaconda/lib/python3.6/site-packages/zmq/eventloop/zmqstream.py\", line 440, in _handle_events\n    self._handle_recv()\n  File \"/Users/sofieolundvillumsen/anaconda/lib/python3.6/site-packages/zmq/eventloop/zmqstream.py\", line 472, in _handle_recv\n    self._run_callback(callback, msg)\n  File \"/Users/sofieolundvillumsen/anaconda/lib/python3.6/site-packages/zmq/eventloop/zmqstream.py\", line 414, in _run_callback\n    callback(*args, **kwargs)\n  File \"/Users/sofieolundvillumsen/anaconda/lib/python3.6/site-packages/tornado/stack_context.py\", line 277, in null_wrapper\n    return fn(*args, **kwargs)\n  File \"/Users/sofieolundvillumsen/anaconda/lib/python3.6/site-packages/ipykernel/kernelbase.py\", line 283, in dispatcher\n    return self.dispatch_shell(stream, msg)\n  File \"/Users/sofieolundvillumsen/anaconda/lib/python3.6/site-packages/ipykernel/kernelbase.py\", line 235, in dispatch_shell\n    handler(stream, idents, msg)\n  File \"/Users/sofieolundvillumsen/anaconda/lib/python3.6/site-packages/ipykernel/kernelbase.py\", line 399, in execute_request\n    user_expressions, allow_stdin)\n  File \"/Users/sofieolundvillumsen/anaconda/lib/python3.6/site-packages/ipykernel/ipkernel.py\", line 196, in do_execute\n    res = shell.run_cell(code, store_history=store_history, silent=silent)\n  File \"/Users/sofieolundvillumsen/anaconda/lib/python3.6/site-packages/ipykernel/zmqshell.py\", line 533, in run_cell\n    return super(ZMQInteractiveShell, self).run_cell(*args, **kwargs)\n  File \"/Users/sofieolundvillumsen/anaconda/lib/python3.6/site-packages/IPython/core/interactiveshell.py\", line 2717, in run_cell\n    interactivity=interactivity, compiler=compiler, result=result)\n  File \"/Users/sofieolundvillumsen/anaconda/lib/python3.6/site-packages/IPython/core/interactiveshell.py\", line 2821, in run_ast_nodes\n    if self.run_code(code, result):\n  File \"/Users/sofieolundvillumsen/anaconda/lib/python3.6/site-packages/IPython/core/interactiveshell.py\", line 2881, in run_code\n    exec(code_obj, self.user_global_ns, self.user_ns)\n  File \"<ipython-input-20-43a9d25149f2>\", line 1, in <module>\n    shap_values = e.shap_values(X_val[:5])\n  File \"/Users/sofieolundvillumsen/anaconda/lib/python3.6/site-packages/shap/explainers/deep/__init__.py\", line 117, in shap_values\n    return self.explainer.shap_values(X, ranked_outputs, output_rank_order)\n  File \"/Users/sofieolundvillumsen/anaconda/lib/python3.6/site-packages/shap/explainers/deep/deep_tf.py\", line 250, in shap_values\n    sample_phis = self.run(self.phi_symbolic(feature_ind), self.model_inputs, joint_input)\n  File \"/Users/sofieolundvillumsen/anaconda/lib/python3.6/site-packages/shap/explainers/deep/deep_tf.py\", line 196, in phi_symbolic\n    self.phi_symbolics[i] = tf.gradients(out, self.model_inputs)\n  File \"/Users/sofieolundvillumsen/anaconda/lib/python3.6/site-packages/tensorflow/python/ops/gradients_impl.py\", line 596, in gradients\n    gate_gradients, aggregation_method, stop_gradients)\n  File \"/Users/sofieolundvillumsen/anaconda/lib/python3.6/site-packages/tensorflow/python/ops/gradients_impl.py\", line 776, in _GradientsHelper\n    lambda: grad_fn(op, *out_grads))\n  File \"/Users/sofieolundvillumsen/anaconda/lib/python3.6/site-packages/tensorflow/python/ops/gradients_impl.py\", line 398, in _MaybeCompile\n    return grad_fn()  # Exit early\n  File \"/Users/sofieolundvillumsen/anaconda/lib/python3.6/site-packages/tensorflow/python/ops/gradients_impl.py\", line 776, in <lambda>\n    lambda: grad_fn(op, *out_grads))\n  File \"/Users/sofieolundvillumsen/anaconda/lib/python3.6/site-packages/shap/explainers/deep/deep_tf.py\", line 275, in custom_grad\n    return op_handlers[op.type](self, op, *grads)\n  File \"/Users/sofieolundvillumsen/anaconda/lib/python3.6/site-packages/shap/explainers/deep/deep_tf.py\", line 419, in handler\n    return nonlinearity_1d_handler(input_ind, explainer, op, *grads)\n  File \"/Users/sofieolundvillumsen/anaconda/lib/python3.6/site-packages/shap/explainers/deep/deep_tf.py\", line 438, in nonlinearity_1d_handler\n    grads[0] * tf.tile((xout - rout) / delta_in0, dup0)\n  File \"/Users/sofieolundvillumsen/anaconda/lib/python3.6/site-packages/tensorflow/python/ops/math_ops.py\", line 862, in binary_op_wrapper\n    return func(x, y, name=name)\n  File \"/Users/sofieolundvillumsen/anaconda/lib/python3.6/site-packages/tensorflow/python/ops/math_ops.py\", line 1129, in _mul_dispatch\n    return gen_math_ops.mul(x, y, name=name)\n  File \"/Users/sofieolundvillumsen/anaconda/lib/python3.6/site-packages/tensorflow/python/ops/gen_math_ops.py\", line 5042, in mul\n    \"Mul\", x=x, y=y, name=name)\n  File \"/Users/sofieolundvillumsen/anaconda/lib/python3.6/site-packages/tensorflow/python/framework/op_def_library.py\", line 787, in _apply_op_helper\n    op_def=op_def)\n  File \"/Users/sofieolundvillumsen/anaconda/lib/python3.6/site-packages/tensorflow/python/util/deprecation.py\", line 488, in new_func\n    return func(*args, **kwargs)\n  File \"/Users/sofieolundvillumsen/anaconda/lib/python3.6/site-packages/tensorflow/python/framework/ops.py\", line 3272, in create_op\n    op_def=op_def)\n  File \"/Users/sofieolundvillumsen/anaconda/lib/python3.6/site-packages/tensorflow/python/framework/ops.py\", line 1768, in __init__\n    self._traceback = tf_stack.extract_stack()\n\n...which was originally created as op 'global_max_pooling1d_2/Max', defined at:\n  File \"/Users/sofieolundvillumsen/anaconda/lib/python3.6/runpy.py\", line 193, in _run_module_as_main\n    \"__main__\", mod_spec)\n[elided 18 identical lines from previous traceback]\n  File \"/Users/sofieolundvillumsen/anaconda/lib/python3.6/site-packages/IPython/core/interactiveshell.py\", line 2881, in run_code\n    exec(code_obj, self.user_global_ns, self.user_ns)\n  File \"<ipython-input-17-6ec30d6134b0>\", line 58, in <module>\n    model.add(GlobalMaxPooling1D())\n  File \"/Users/sofieolundvillumsen/anaconda/lib/python3.6/site-packages/keras/engine/sequential.py\", line 181, in add\n    output_tensor = layer(self.outputs[0])\n  File \"/Users/sofieolundvillumsen/anaconda/lib/python3.6/site-packages/keras/engine/base_layer.py\", line 457, in __call__\n    output = self.call(inputs, **kwargs)\n  File \"/Users/sofieolundvillumsen/anaconda/lib/python3.6/site-packages/keras/layers/pooling.py\", line 584, in call\n    return K.max(inputs, axis=steps_axis)\n  File \"/Users/sofieolundvillumsen/anaconda/lib/python3.6/site-packages/keras/backend/tensorflow_backend.py\", line 1250, in max\n    return tf.reduce_max(x, axis, keepdims)\n  File \"/Users/sofieolundvillumsen/anaconda/lib/python3.6/site-packages/tensorflow/python/util/deprecation.py\", line 488, in new_func\n    return func(*args, **kwargs)\n  File \"/Users/sofieolundvillumsen/anaconda/lib/python3.6/site-packages/tensorflow/python/ops/math_ops.py\", line 1640, in reduce_max\n    name=name))\n  File \"/Users/sofieolundvillumsen/anaconda/lib/python3.6/site-packages/tensorflow/python/ops/gen_math_ops.py\", line 4641, in _max\n    name=name)\n  File \"/Users/sofieolundvillumsen/anaconda/lib/python3.6/site-packages/tensorflow/python/framework/op_def_library.py\", line 787, in _apply_op_helper\n    op_def=op_def)\n  File \"/Users/sofieolundvillumsen/anaconda/lib/python3.6/site-packages/tensorflow/python/util/deprecation.py\", line 488, in new_func\n    return func(*args, **kwargs)\n  File \"/Users/sofieolundvillumsen/anaconda/lib/python3.6/site-packages/tensorflow/python/framework/ops.py\", line 3272, in create_op\n    op_def=op_def)\n  File \"/Users/sofieolundvillumsen/anaconda/lib/python3.6/site-packages/tensorflow/python/framework/ops.py\", line 1768, in __init__\n    self._traceback = tf_stack.extract_stack()\n\nInvalidArgumentError (see above for traceback): Incompatible shapes: [100,110] vs. [100,50,110]\n\t [[{{node gradients_2/global_max_pooling1d_2/Max_grad/mul_1}} = Mul[T=DT_FLOAT, _device=\"/job:localhost/replica:0/task:0/device:CPU:0\"](gradients_2/dense_3/MatMul_grad/MatMul, gradients_2/global_max_pooling1d_2/Max_grad/Tile_1)]]\n"
     ]
    }
   ],
   "source": [
    "shap_values = e.shap_values(X_val[:5])"
   ]
  },
  {
   "cell_type": "code",
   "execution_count": null,
   "metadata": {
    "collapsed": true
   },
   "outputs": [],
   "source": []
  }
 ],
 "metadata": {
  "kernelspec": {
   "display_name": "Python 3",
   "language": "python",
   "name": "python3"
  },
  "language_info": {
   "codemirror_mode": {
    "name": "ipython",
    "version": 3
   },
   "file_extension": ".py",
   "mimetype": "text/x-python",
   "name": "python",
   "nbconvert_exporter": "python",
   "pygments_lexer": "ipython3",
   "version": "3.6.1"
  }
 },
 "nbformat": 4,
 "nbformat_minor": 2
}
