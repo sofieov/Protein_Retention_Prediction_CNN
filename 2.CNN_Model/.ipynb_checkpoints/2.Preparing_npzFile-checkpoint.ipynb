{
 "cells": [
  {
   "cell_type": "markdown",
   "metadata": {},
   "source": [
    "# =================== Import ==================="
   ]
  },
  {
   "cell_type": "code",
   "execution_count": null,
   "metadata": {
    "collapsed": true
   },
   "outputs": [],
   "source": [
    "import os.path\n",
    "import numpy as np\n",
    "from Bio import SeqIO"
   ]
  },
  {
   "cell_type": "markdown",
   "metadata": {},
   "source": [
    "# =================== Variables ==================="
   ]
  },
  {
   "cell_type": "code",
   "execution_count": null,
   "metadata": {
    "collapsed": true
   },
   "outputs": [],
   "source": [
    "final_prosite = os.path.abspath(\"Final_Files/Final_PROSITE.fasta\")"
   ]
  },
  {
   "cell_type": "markdown",
   "metadata": {},
   "source": [
    "# =================== Functions==================="
   ]
  },
  {
   "cell_type": "code",
   "execution_count": null,
   "metadata": {
    "collapsed": true
   },
   "outputs": [],
   "source": [
    "def vectors(final_prosite):\n",
    "    ''' Function to create an: id_vector, seq_vector, lenght_vector, \n",
    "    cluster_vector and label_vector, from the protein data set'''\n",
    "    \n",
    "    sequence_prosite = open(final_prosite)\n",
    "    id_list = []\n",
    "    seq_list = []\n",
    "    lenght_list = []    \n",
    "    for seq_record in SeqIO.parse(sequence_prosite, 'fasta'):\n",
    "        if len(seq_record.seq) == 13100: # skips the protein if the lenght is 13100\n",
    "            continue\n",
    "        seq_id = seq_record.id\n",
    "        id_list.append(seq_id)   \n",
    "        seq_ = \"%s\" % seq_record.seq\n",
    "        seq_list.append(seq_)        \n",
    "        seq_len = len(seq_record)\n",
    "        lenght_list.append(seq_len)        \n",
    "    cluster_list = [i.split('_')[1] for i in id_list] \n",
    "    cluster_list = [int(x) for x in cluster_list]    \n",
    "    label_list = [i.split('|')[2] for i in id_list]\n",
    "    label_list = [i.split('_')[0] for i in label_list]     \n",
    "    # Convert labels to binary output\n",
    "    label_list_int = []\n",
    "    for label in label_list:\n",
    "        if label == 'Negative':\n",
    "            label_list_int.append(0)\n",
    "        else:\n",
    "            label_list_int.append(1)    \n",
    "    # Turning the lists into arrays\n",
    "    id_vector = np.asanyarray(id_list)   \n",
    "    seq_vector = np.asanyarray(seq_list)\n",
    "    lenght_vector = np.asarray(lenght_list) \n",
    "    cluster_vector = np.asarray(cluster_list)\n",
    "    label_vector = np.asarray(label_list_int)  \n",
    "    print (max(lenght_vector))\n",
    "    return id_vector, seq_vector, lenght_vector, cluster_vector, label_vector\n",
    "\n",
    "\n",
    "def partition_assignment(cluster_vector, label_vector):\n",
    "    ''' Function to separate proteins into N partitions with balanced classes'''\n",
    "    n_partitions = 5\n",
    "    n_class = 2\n",
    "    # Unique cluster number\n",
    "    u_cluster = np.unique(cluster_vector)\n",
    "    # Initialize matrices\n",
    "    loc_number = np.ones((n_partitions,n_class))\n",
    "    cl_number = np.zeros(cluster_vector.shape[0])\n",
    "    for i in u_cluster:\n",
    "        # Extract the labels for the proteins in that cluster\n",
    "        positions = np.where(cluster_vector == i)\n",
    "        cl_labels = label_vector[positions]  \n",
    "        # Count number of each class\n",
    "        u, count = np.unique(cl_labels, return_counts=True)       \n",
    "        u = u.astype(np.int32)\n",
    "        temp_loc_number = np.copy(loc_number)\n",
    "        temp_loc_number[:,u] += count\n",
    "        loc_per = loc_number/temp_loc_number\n",
    "        best_group = np.argmin(np.sum(loc_per,axis=1))\n",
    "        loc_number[best_group,u] += count        \n",
    "        # Store the selected partition\n",
    "        cl_number[positions] = best_group    \n",
    "    partition_matrix = loc_number.astype(np.int32)-np.ones(loc_number.shape)\n",
    "    return cl_number, partition_matrix\n",
    "\n",
    "\n",
    "def encode_aa(protein):\n",
    "    ''' Function to One Hot Encoding'''\n",
    "    aminoacids = 'ARNDCQEGHILKMFPSTWYV'\n",
    "    aa_list = list(aminoacids)   \n",
    "    out_protein = []\n",
    "    for aa in protein:\n",
    "        if aa in aa_list:\n",
    "            out_protein.append(aa_list.index(aa))\n",
    "        else:\n",
    "            # aa which are not in the \"aminoacids list\".\n",
    "            out_protein.append(20) \n",
    "    return out_protein\n",
    "        \n",
    "\n",
    "def save_to_file(seq_vector):   \n",
    "    ''' Function to save the arrays in a npz file'''\n",
    "    list_proteins = []    \n",
    "    for seq in seq_vector:\n",
    "        list_proteins.append(encode_aa(seq))\n",
    "    save_file = 'ER_dataset.npz'\n",
    "    np.savez_compressed(save_file,\n",
    "                    input=list_proteins,\n",
    "                    length=lenght_vector,\n",
    "                    label=label_vector,\n",
    "                    partition=cl_number)     \n",
    "    return save_file"
   ]
  },
  {
   "cell_type": "code",
   "execution_count": null,
   "metadata": {
    "collapsed": true
   },
   "outputs": [],
   "source": []
  }
 ],
 "metadata": {
  "kernelspec": {
   "display_name": "Python 3",
   "language": "python",
   "name": "python3"
  },
  "language_info": {
   "codemirror_mode": {
    "name": "ipython",
    "version": 3
   },
   "file_extension": ".py",
   "mimetype": "text/x-python",
   "name": "python",
   "nbconvert_exporter": "python",
   "pygments_lexer": "ipython3",
   "version": "3.6.1"
  }
 },
 "nbformat": 4,
 "nbformat_minor": 2
}
