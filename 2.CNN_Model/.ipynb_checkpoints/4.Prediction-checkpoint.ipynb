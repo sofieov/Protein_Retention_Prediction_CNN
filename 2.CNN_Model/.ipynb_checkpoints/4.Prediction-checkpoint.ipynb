{
 "cells": [
  {
   "cell_type": "markdown",
   "metadata": {},
   "source": [
    "# =================== Import ==================="
   ]
  },
  {
   "cell_type": "code",
   "execution_count": 8,
   "metadata": {
    "collapsed": true
   },
   "outputs": [],
   "source": [
    "import numpy as np\n",
    "from tensorflow.keras.models import Sequential\n",
    "from tensorflow.keras.layers import Dense, Conv1D, MaxPooling1D, Dropout, GlobalMaxPooling1D, Embedding\n",
    "from tensorflow.keras.callbacks import ModelCheckpoint\n",
    "from tensorflow.keras.preprocessing import sequence\n",
    "from sklearn.metrics import confusion_matrix\n",
    "import math"
   ]
  },
  {
   "cell_type": "markdown",
   "metadata": {},
   "source": [
    "# =================== Variables ==================="
   ]
  },
  {
   "cell_type": "code",
   "execution_count": 9,
   "metadata": {
    "collapsed": true
   },
   "outputs": [],
   "source": [
    "data = np.load('2.ER_dataset.npz')"
   ]
  },
  {
   "cell_type": "markdown",
   "metadata": {},
   "source": [
    "# =================== Functions ==================="
   ]
  },
  {
   "cell_type": "code",
   "execution_count": 20,
   "metadata": {
    "collapsed": true
   },
   "outputs": [],
   "source": [
    "def prediction_test(data):   \n",
    "    '''Function to predict outcome of the test set (not trained on)'''\n",
    "    X = data['input']\n",
    "    y = data['label']\n",
    "    part = data['partition']\n",
    "       \n",
    "    max_protein_length=100\n",
    "    input_dim=21\n",
    "    n_filters=110\n",
    "    kernel_size=7\n",
    "    dropout=0.25\n",
    "    maxpooling_size=2\n",
    "    n_layers=[0]\n",
    "    activation='relu'\n",
    "    activation_out='sigmoid'\n",
    "    padding='same'\n",
    "    n_classes=1\n",
    "    test = 4\n",
    "    not_test = [0,1,2,3]\n",
    "    test_indices = np.where(part == test)  \n",
    "    X = sequence.pad_sequences(X, maxlen=max_protein_length)\n",
    "    X = X[:,-max_protein_length:]\n",
    "    X_test = X[test_indices]\n",
    "    y_test = y[test_indices]\n",
    "    #test_indices = np.where(part == test)\n",
    "    \n",
    "    # Cross validation loop\n",
    "    average_prediction = np.zeros(y_test.shape[0])\n",
    "    print(average_prediction.shape)\n",
    "        \n",
    "    for partition in not_test:  \n",
    "        # CNN model\n",
    "        model = Sequential()\n",
    "        model.add(Embedding(input_dim, n_filters, input_length=max_protein_length))\n",
    "        model.add(MaxPooling1D(pool_size=maxpooling_size))\n",
    "        model.add(Dropout(dropout))       \n",
    "        for n in n_layers:\n",
    "            model.add(Conv1D(n_filters, kernel_size, activation=activation, padding=padding)) \n",
    "        model.add(GlobalMaxPooling1D())\n",
    "        model.add(Dense(n_filters, activation=activation))\n",
    "        model.add(Dense(n_classes, activation=activation_out))\n",
    "        # Using all the builded models\n",
    "        file_model = \"model_%i.hdf5\" % partition\n",
    "        # Loading weights to model\n",
    "        model.load_weights(filepath = file_model)\n",
    "        # Prediction\n",
    "        predictions = model.predict(X_test)\n",
    "        average_prediction += np.squeeze(predictions,1)\n",
    "    \n",
    "    final_prediction = average_prediction / 4.0\n",
    "         \n",
    "    pred_class = np.around(final_prediction) \n",
    "    y_actu = y_test.tolist()\n",
    "    y_pred = pred_class.tolist()\n",
    "    cm = confusion_matrix(y_pred, y_actu)\n",
    "    TN = cm[0][0]\n",
    "    FP = cm[0][1]\n",
    "    FN = cm[1][0]\n",
    "    TP = cm[1][1]\n",
    "    MCC_test = (TP*TN-FP*FN)/math.sqrt((TP+FP)*(TP+FN)*(TN+FP)*(TN+FN))\n",
    "    print('TP', 'FP', 'FN', 'TN')\n",
    "    print(TP, FP, FN, TN, '\\n')\n",
    "    print('Confusion Matrix')\n",
    "    print(cm)\n",
    "    print ('MCC = ', MCC_test, '\\n') \n",
    "    return MCC_test"
   ]
  },
  {
   "cell_type": "markdown",
   "metadata": {},
   "source": [
    "# =================== Main ==================="
   ]
  },
  {
   "cell_type": "code",
   "execution_count": 21,
   "metadata": {},
   "outputs": [
    {
     "name": "stdout",
     "output_type": "stream",
     "text": [
      "(570,)\n",
      "TP FP FN TN\n",
      "75 1 3 491 \n",
      "\n",
      "Confusion Matrix\n",
      "[[491   1]\n",
      " [  3  75]]\n",
      "MCC =  0.9700793286542261 \n",
      "\n"
     ]
    }
   ],
   "source": [
    "MCC_test = prediction_test(data)"
   ]
  },
  {
   "cell_type": "code",
   "execution_count": null,
   "metadata": {
    "collapsed": true
   },
   "outputs": [],
   "source": []
  }
 ],
 "metadata": {
  "kernelspec": {
   "display_name": "Python 3",
   "language": "python",
   "name": "python3"
  },
  "language_info": {
   "codemirror_mode": {
    "name": "ipython",
    "version": 3
   },
   "file_extension": ".py",
   "mimetype": "text/x-python",
   "name": "python",
   "nbconvert_exporter": "python",
   "pygments_lexer": "ipython3",
   "version": "3.6.1"
  }
 },
 "nbformat": 4,
 "nbformat_minor": 2
}
