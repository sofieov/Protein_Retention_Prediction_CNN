{
 "cells": [
  {
   "cell_type": "markdown",
   "metadata": {},
   "source": [
    "# =================== Import ==================="
   ]
  },
  {
   "cell_type": "code",
   "execution_count": 1,
   "metadata": {},
   "outputs": [
    {
     "name": "stderr",
     "output_type": "stream",
     "text": [
      "/Users/sofieolundvillumsen/anaconda/lib/python3.6/site-packages/h5py/__init__.py:34: FutureWarning: Conversion of the second argument of issubdtype from `float` to `np.floating` is deprecated. In future, it will be treated as `np.float64 == np.dtype(float).type`.\n",
      "  from ._conv import register_converters as _register_converters\n"
     ]
    }
   ],
   "source": [
    "import numpy as np\n",
    "from tensorflow.keras.models import Sequential\n",
    "from tensorflow.keras.layers import Dense, Conv1D, MaxPooling1D, Dropout, GlobalMaxPooling1D, Embedding\n",
    "from tensorflow.keras.callbacks import ModelCheckpoint\n",
    "from tensorflow.keras.preprocessing import sequence\n",
    "from sklearn.metrics import confusion_matrix\n",
    "import math"
   ]
  },
  {
   "cell_type": "markdown",
   "metadata": {},
   "source": [
    "# =================== Variables ==================="
   ]
  },
  {
   "cell_type": "code",
   "execution_count": 2,
   "metadata": {
    "collapsed": true
   },
   "outputs": [],
   "source": [
    "data = np.load('2.CNN_Model/ER_dataset.npz')"
   ]
  },
  {
   "cell_type": "markdown",
   "metadata": {},
   "source": [
    "# =================== Functions ==================="
   ]
  },
  {
   "cell_type": "code",
   "execution_count": 3,
   "metadata": {
    "collapsed": true
   },
   "outputs": [],
   "source": [
    "def cross_validation(data):\n",
    "    '''Function to make the CNN model and cross validate the model'''\n",
    "    max_protein_length=100\n",
    "    input_dim=21 #One Hot Encoding\n",
    "    n_filters=110\n",
    "    n_filters_out=96\n",
    "    kernel_size=6\n",
    "    #dropout=0.25\n",
    "    maxpooling_size=2\n",
    "    n_layers=[0]  \n",
    "    activation='relu'\n",
    "    activation_out='sigmoid'\n",
    "    padding='same'   \n",
    "    optimizer='adam'\n",
    "    loss='binary_crossentropy'\n",
    "    metrics=['accuracy']   \n",
    "    n_classes=1\n",
    "    epochs=30\n",
    "    batch_size=64\n",
    "    verbose=1\n",
    "   \n",
    "    X = data['input']\n",
    "    y = data['label']\n",
    "    part = data['partition']\n",
    "    \n",
    "    # The data set is partitioned in 5 where the fifth partiotion is test set and the other 4 will train the model\n",
    "    test = 4\n",
    "    not_test = [0,1,2,3]\n",
    "    #test_indices = np.where(part == test)\n",
    "\n",
    "    performances = []\n",
    "    accscores = []\n",
    "    \n",
    "    # Cross validation loop\n",
    "    for partition in not_test:\n",
    "        train_indices = np.where((part != partition)&(part != test))\n",
    "        val_indices = np.where(part == partition)        \n",
    "\n",
    "        # Last 100aa in the protein sequences\n",
    "        X = sequence.pad_sequences(X, maxlen=max_protein_length)\n",
    "        X = X[:,-max_protein_length:] \n",
    "        X_train = X[train_indices] \n",
    "        X_val = X[val_indices]\n",
    "        y_train = y[train_indices]\n",
    "        y_val = y[val_indices]\n",
    "        \n",
    "        # Building model\n",
    "        model = Sequential()\n",
    "        model.add(Embedding(input_dim, n_filters, input_length=max_protein_length)) \n",
    "        model.add(MaxPooling1D(pool_size=maxpooling_size))\n",
    "        #model.add(Dropout(dropout))\n",
    "        for n in n_layers:\n",
    "            model.add(Conv1D(n_filters, kernel_size, activation=activation, padding=padding))         \n",
    "        model.add(GlobalMaxPooling1D())\n",
    "        model.add(Dense(n_filters_out, activation=activation))\n",
    "        model.add(Dense(n_classes, activation=activation_out)) \n",
    "        # Summerize model\n",
    "        print(model.summary())\n",
    "        # Compiling model\n",
    "        model.compile(optimizer=optimizer, loss=loss, metrics=metrics) \n",
    "        # Training model\n",
    "        print(partition + 1, 'Iteration')\n",
    "        file_model = \"2.CNN_Model/model_%i.hdf5\" % partition\n",
    "        mcp_save = ModelCheckpoint(file_model, save_best_only=True, monitor='val_loss', mode='min')\n",
    "        model.fit(X_train, y_train, validation_data=(X_val, y_val), epochs=epochs, batch_size=batch_size, \n",
    "                  callbacks=[mcp_save], verbose=verbose)\n",
    "        # Loading weights into model\n",
    "        model.load_weights(filepath = file_model)\n",
    "        # Evalating model\n",
    "        scores = model.evaluate(X_val, y_val)\n",
    "        print('Test loss:', scores[0])\n",
    "        print('Test accuracy:', scores[1], '\\n')\n",
    "        # Appending performances from each iteration acc\n",
    "        accscores.append(scores[1])\n",
    "        # Running the \"mcc function\"\n",
    "        val_mcc = mcc(X_val,y_val, model)     \n",
    "        # Appending performances from each iteration MCC\n",
    "        performances.append(val_mcc)\n",
    "            \n",
    "    \n",
    "    print('Accuracy from each iterations = ', accscores) \n",
    "    acc_scores = np.mean(accscores)\n",
    "    print('Average accuracy = ', acc_scores)\n",
    "    \n",
    "    print('MCC from each iterations = ', performances) \n",
    "    kfold_mcc = np.mean(performances) \n",
    "    print('Average MCC = ', kfold_mcc)\n",
    "    return kfold_mcc"
   ]
  },
  {
   "cell_type": "code",
   "execution_count": null,
   "metadata": {
    "collapsed": true
   },
   "outputs": [],
   "source": [
    "def mcc(X_val,y_val, model):\n",
    "    '''Function to make predictions and calculate the Matthews Correlation Coefficient'''\n",
    "    predictions = model.predict_classes(X_val)\n",
    "    y_actu = y_val.tolist()\n",
    "    y_pred = predictions.tolist()\n",
    "    cm = confusion_matrix(y_pred, y_actu)\n",
    "    TN = cm[0][0]\n",
    "    FP = cm[0][1]\n",
    "    FN = cm[1][0]\n",
    "    TP = cm[1][1]\n",
    "    MCC = (TP*TN-FP*FN)/math.sqrt((TP+FP)*(TP+FN)*(TN+FP)*(TN+FN))\n",
    "    print('TP', 'FP', 'FN', 'TN')\n",
    "    print(TP, FP, FN, TN, '\\n')\n",
    "    print('Confusion Matrix')\n",
    "    print(cm)\n",
    "    print ('MCC = ', MCC, '\\n')\n",
    "    return MCC"
   ]
  },
  {
   "cell_type": "markdown",
   "metadata": {},
   "source": [
    "# =================== Main ==================="
   ]
  },
  {
   "cell_type": "code",
   "execution_count": null,
   "metadata": {},
   "outputs": [
    {
     "name": "stdout",
     "output_type": "stream",
     "text": [
      "_________________________________________________________________\n",
      "Layer (type)                 Output Shape              Param #   \n",
      "=================================================================\n",
      "embedding (Embedding)        (None, 100, 110)          2310      \n",
      "_________________________________________________________________\n",
      "max_pooling1d (MaxPooling1D) (None, 50, 110)           0         \n",
      "_________________________________________________________________\n",
      "conv1d (Conv1D)              (None, 50, 110)           72710     \n",
      "_________________________________________________________________\n",
      "global_max_pooling1d (Global (None, 110)               0         \n",
      "_________________________________________________________________\n",
      "dense (Dense)                (None, 96)                10656     \n",
      "_________________________________________________________________\n",
      "dense_1 (Dense)              (None, 1)                 97        \n",
      "=================================================================\n",
      "Total params: 85,773\n",
      "Trainable params: 85,773\n",
      "Non-trainable params: 0\n",
      "_________________________________________________________________\n",
      "None\n",
      "1 Iteration\n"
     ]
    },
    {
     "name": "stderr",
     "output_type": "stream",
     "text": [
      "/Users/sofieolundvillumsen/anaconda/lib/python3.6/site-packages/tensorflow/python/ops/gradients_impl.py:108: UserWarning: Converting sparse IndexedSlices to a dense Tensor of unknown shape. This may consume a large amount of memory.\n",
      "  \"Converting sparse IndexedSlices to a dense Tensor of unknown shape. \"\n"
     ]
    },
    {
     "name": "stdout",
     "output_type": "stream",
     "text": [
      "Train on 1712 samples, validate on 576 samples\n",
      "Epoch 1/30\n",
      "1712/1712 [==============================] - 2s 1ms/step - loss: 0.4514 - acc: 0.8546 - val_loss: 0.3930 - val_acc: 0.8594\n",
      "Epoch 2/30\n",
      "1712/1712 [==============================] - 1s 735us/step - loss: 0.3652 - acc: 0.8668 - val_loss: 0.3580 - val_acc: 0.8594\n",
      "Epoch 3/30\n",
      "1712/1712 [==============================] - 1s 821us/step - loss: 0.3207 - acc: 0.8668 - val_loss: 0.3152 - val_acc: 0.8594\n",
      "Epoch 4/30\n",
      "1712/1712 [==============================] - 1s 764us/step - loss: 0.2604 - acc: 0.8762 - val_loss: 0.2164 - val_acc: 0.9132\n",
      "Epoch 5/30\n",
      "1712/1712 [==============================] - 1s 810us/step - loss: 0.1252 - acc: 0.9474 - val_loss: 0.0745 - val_acc: 0.9792\n",
      "Epoch 6/30\n",
      "1712/1712 [==============================] - 1s 780us/step - loss: 0.0332 - acc: 0.9912 - val_loss: 0.0342 - val_acc: 0.9878\n",
      "Epoch 7/30\n",
      "1712/1712 [==============================] - 1s 760us/step - loss: 0.0171 - acc: 0.9942 - val_loss: 0.0334 - val_acc: 0.9896\n",
      "Epoch 8/30\n",
      "1712/1712 [==============================] - 1s 742us/step - loss: 0.0120 - acc: 0.9947 - val_loss: 0.0346 - val_acc: 0.9878\n",
      "Epoch 9/30\n",
      "1712/1712 [==============================] - 1s 740us/step - loss: 0.0102 - acc: 0.9959 - val_loss: 0.0440 - val_acc: 0.9896\n",
      "Epoch 10/30\n",
      "1712/1712 [==============================] - 1s 798us/step - loss: 0.0137 - acc: 0.9965 - val_loss: 0.0324 - val_acc: 0.9861\n",
      "Epoch 11/30\n",
      "1712/1712 [==============================] - 1s 748us/step - loss: 0.0093 - acc: 0.9965 - val_loss: 0.0323 - val_acc: 0.9861\n",
      "Epoch 12/30\n",
      "1712/1712 [==============================] - 1s 739us/step - loss: 0.0090 - acc: 0.9977 - val_loss: 0.0329 - val_acc: 0.9878\n",
      "Epoch 13/30\n",
      "1712/1712 [==============================] - 1s 734us/step - loss: 0.0078 - acc: 0.9953 - val_loss: 0.0324 - val_acc: 0.9878\n",
      "Epoch 14/30\n",
      "1712/1712 [==============================] - 1s 733us/step - loss: 0.0061 - acc: 0.9977 - val_loss: 0.0343 - val_acc: 0.9896\n",
      "Epoch 15/30\n",
      "1712/1712 [==============================] - 1s 778us/step - loss: 0.0066 - acc: 0.9977 - val_loss: 0.0318 - val_acc: 0.9896\n",
      "Epoch 16/30\n",
      "1712/1712 [==============================] - 1s 792us/step - loss: 0.0101 - acc: 0.9977 - val_loss: 0.0320 - val_acc: 0.9878\n",
      "Epoch 17/30\n",
      "1712/1712 [==============================] - 1s 752us/step - loss: 0.0145 - acc: 0.9965 - val_loss: 0.0320 - val_acc: 0.9878\n",
      "Epoch 18/30\n",
      "1712/1712 [==============================] - 1s 761us/step - loss: 0.0076 - acc: 0.9959 - val_loss: 0.0285 - val_acc: 0.9896\n",
      "Epoch 19/30\n",
      "1712/1712 [==============================] - 1s 805us/step - loss: 0.0081 - acc: 0.9959 - val_loss: 0.0446 - val_acc: 0.9896\n",
      "Epoch 20/30\n",
      "1712/1712 [==============================] - 1s 796us/step - loss: 0.0090 - acc: 0.9971 - val_loss: 0.0319 - val_acc: 0.9896\n",
      "Epoch 21/30\n",
      "1712/1712 [==============================] - 1s 758us/step - loss: 0.0084 - acc: 0.9953 - val_loss: 0.0381 - val_acc: 0.9896\n",
      "Epoch 22/30\n",
      "1712/1712 [==============================] - 1s 733us/step - loss: 0.0065 - acc: 0.9982 - val_loss: 0.0348 - val_acc: 0.9878\n",
      "Epoch 23/30\n",
      "1712/1712 [==============================] - 1s 766us/step - loss: 0.0126 - acc: 0.9965 - val_loss: 0.0303 - val_acc: 0.9896\n",
      "Epoch 24/30\n",
      "1712/1712 [==============================] - 1s 768us/step - loss: 0.0068 - acc: 0.9959 - val_loss: 0.0320 - val_acc: 0.9861\n",
      "Epoch 25/30\n",
      "1712/1712 [==============================] - 1s 727us/step - loss: 0.0081 - acc: 0.9965 - val_loss: 0.0458 - val_acc: 0.9896\n",
      "Epoch 26/30\n",
      "1712/1712 [==============================] - 1s 731us/step - loss: 0.0089 - acc: 0.9982 - val_loss: 0.0337 - val_acc: 0.9896\n",
      "Epoch 27/30\n",
      "1712/1712 [==============================] - 1s 754us/step - loss: 0.0079 - acc: 0.9965 - val_loss: 0.0322 - val_acc: 0.9878\n",
      "Epoch 28/30\n",
      "1712/1712 [==============================] - 1s 752us/step - loss: 0.0058 - acc: 0.9982 - val_loss: 0.0421 - val_acc: 0.9896\n",
      "Epoch 29/30\n",
      "1712/1712 [==============================] - 1s 766us/step - loss: 0.0167 - acc: 0.9965 - val_loss: 0.0309 - val_acc: 0.9878\n",
      "Epoch 30/30\n",
      "1712/1712 [==============================] - 1s 785us/step - loss: 0.0080 - acc: 0.9982 - val_loss: 0.0515 - val_acc: 0.9809\n",
      "576/576 [==============================] - 0s 240us/step\n",
      "Test loss: 0.028494358460569913\n",
      "Test accuracy: 0.9895833333333334 \n",
      "\n",
      "TP FP FN TN\n",
      "78 3 3 492 \n",
      "\n",
      "Confusion Matrix\n",
      "[[492   3]\n",
      " [  3  78]]\n",
      "MCC =  0.9569023569023569 \n",
      "\n",
      "_________________________________________________________________\n",
      "Layer (type)                 Output Shape              Param #   \n",
      "=================================================================\n",
      "embedding_1 (Embedding)      (None, 100, 110)          2310      \n",
      "_________________________________________________________________\n",
      "max_pooling1d_1 (MaxPooling1 (None, 50, 110)           0         \n",
      "_________________________________________________________________\n",
      "conv1d_1 (Conv1D)            (None, 50, 110)           72710     \n",
      "_________________________________________________________________\n",
      "global_max_pooling1d_1 (Glob (None, 110)               0         \n",
      "_________________________________________________________________\n",
      "dense_2 (Dense)              (None, 96)                10656     \n",
      "_________________________________________________________________\n",
      "dense_3 (Dense)              (None, 1)                 97        \n",
      "=================================================================\n",
      "Total params: 85,773\n",
      "Trainable params: 85,773\n",
      "Non-trainable params: 0\n",
      "_________________________________________________________________\n",
      "None\n",
      "2 Iteration\n",
      "Train on 1719 samples, validate on 569 samples\n",
      "Epoch 1/30\n",
      "1719/1719 [==============================] - 2s 1ms/step - loss: 0.4573 - acc: 0.8330 - val_loss: 0.3755 - val_acc: 0.8699\n",
      "Epoch 2/30\n",
      "1719/1719 [==============================] - 1s 797us/step - loss: 0.3545 - acc: 0.8633 - val_loss: 0.3519 - val_acc: 0.8699\n",
      "Epoch 3/30\n",
      "1719/1719 [==============================] - 2s 935us/step - loss: 0.3036 - acc: 0.8633 - val_loss: 0.3362 - val_acc: 0.8699\n",
      "Epoch 4/30\n",
      "1719/1719 [==============================] - 1s 861us/step - loss: 0.2417 - acc: 0.8912 - val_loss: 0.2461 - val_acc: 0.8805\n",
      "Epoch 5/30\n",
      "1719/1719 [==============================] - 1s 769us/step - loss: 0.1251 - acc: 0.9511 - val_loss: 0.0894 - val_acc: 0.9684\n",
      "Epoch 6/30\n",
      "1719/1719 [==============================] - 1s 835us/step - loss: 0.0382 - acc: 0.9913 - val_loss: 0.0658 - val_acc: 0.9736\n",
      "Epoch 7/30\n",
      "1719/1719 [==============================] - 2s 899us/step - loss: 0.0167 - acc: 0.9959 - val_loss: 0.0682 - val_acc: 0.9754\n",
      "Epoch 8/30\n",
      "1719/1719 [==============================] - 2s 875us/step - loss: 0.0105 - acc: 0.9965 - val_loss: 0.0525 - val_acc: 0.9824\n",
      "Epoch 9/30\n",
      "1719/1719 [==============================] - 2s 1ms/step - loss: 0.0077 - acc: 0.9977 - val_loss: 0.0551 - val_acc: 0.9807\n",
      "Epoch 10/30\n",
      "1719/1719 [==============================] - 2s 899us/step - loss: 0.0055 - acc: 0.9994 - val_loss: 0.0763 - val_acc: 0.9701\n",
      "Epoch 11/30\n",
      "1719/1719 [==============================] - 1s 793us/step - loss: 0.0057 - acc: 0.9983 - val_loss: 0.0729 - val_acc: 0.9736\n",
      "Epoch 12/30\n",
      " 320/1719 [====>.........................] - ETA: 1s - loss: 0.0036 - acc: 1.0000"
     ]
    }
   ],
   "source": [
    "kfold_mcc = cross_validation(data)"
   ]
  },
  {
   "cell_type": "code",
   "execution_count": null,
   "metadata": {
    "collapsed": true
   },
   "outputs": [],
   "source": []
  }
 ],
 "metadata": {
  "kernelspec": {
   "display_name": "Python 3",
   "language": "python",
   "name": "python3"
  },
  "language_info": {
   "codemirror_mode": {
    "name": "ipython",
    "version": 3
   },
   "file_extension": ".py",
   "mimetype": "text/x-python",
   "name": "python",
   "nbconvert_exporter": "python",
   "pygments_lexer": "ipython3",
   "version": "3.6.1"
  }
 },
 "nbformat": 4,
 "nbformat_minor": 2
}
