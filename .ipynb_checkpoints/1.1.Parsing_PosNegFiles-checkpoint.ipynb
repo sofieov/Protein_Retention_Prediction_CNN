{
 "cells": [
  {
   "cell_type": "markdown",
   "metadata": {},
   "source": [
    "# =================== Import ==================="
   ]
  },
  {
   "cell_type": "code",
   "execution_count": 2,
   "metadata": {
    "collapsed": true
   },
   "outputs": [],
   "source": [
    "import os.path"
   ]
  },
  {
   "cell_type": "markdown",
   "metadata": {},
   "source": [
    "\n",
    "# =================== Variables ==================="
   ]
  },
  {
   "cell_type": "code",
   "execution_count": 3,
   "metadata": {
    "collapsed": true
   },
   "outputs": [],
   "source": [
    "directory1 = ('1.Parsing_Data_Files/1.1.Data_Files/')\n",
    "directory2 = ('1.Parsing_Data_Files/1.2.Sorted_Files/')\n",
    "directory3 = ('1.Parsing_Data_Files/1.3.CD_HIT_Files/')\n",
    "directory4 = ('1.Parsing_Data_Files/1.4.Cluster_Files/')\n",
    "directory5 = ('1.Parsing_Data_Files/1.5.Final_Files/')\n",
    "\n",
    "# Raw files from UniProt and PROSITE\n",
    "pos_in_prosite = os.path.abspath(os.path.join(directory1,'Positives_PROSITE.fasta')) \n",
    "pos_in_uniprot = os.path.abspath(os.path.join(directory1,'Positives_UniProt.fasta'))\n",
    "neg_in = os.path.abspath(os.path.join(directory1,'Negatives_UniProt.fasta'))\n",
    "\n",
    "# Seperated files\n",
    "pos_out_prosite = os.path.abspath(os.path.join(directory2,'Positives_Modified_PROSITE.fasta'))\n",
    "pos_out_uniprot = os.path.abspath(os.path.join(directory2,'Positives_Modified_UniProt.fasta'))\n",
    "neg_out = os.path.abspath(os.path.join(directory2,'Negatives_Modified_UniProt.fasta'))\n",
    "\n",
    "# CD-HIT files\n",
    "cdhit_prosite = os.path.abspath(os.path.join(directory3,'CD_HIT_PROSITE.txt'))\n",
    "cdhit_uniprot_pos = os.path.abspath(os.path.join(directory3,'CD_HIT_UniProt.txt'))\n",
    "cdhit_uniprot_neg = os.path.abspath(os.path.join(directory3,'CD_HIT_UniProt_Neg.txt'))\n",
    "\n",
    "# Cluster files\n",
    "cluster_prosite = os.path.abspath(os.path.join(directory4,'Cluster_PROSITE.fasta'))\n",
    "cluster_uniprot = os.path.abspath(os.path.join(directory4,'Cluster_UniProt.fasta'))\n",
    "cluster_uniprot_neg = os.path.abspath(os.path.join(directory4,'Cluster_UniProt_Neg.fasta'))\n",
    "\n",
    "# Final files\n",
    "final_prosite_pos = os.path.abspath(os.path.join(directory5,'Final_PROSITE_pos.fasta'))\n",
    "final_uniprot_pos = os.path.abspath(os.path.join(directory5,'Final_UniProt_Pos.fasta'))\n",
    "final_uniprot_neg = os.path.abspath(os.path.join(directory5,'Final_UniProt_Neg.fasta'))\n",
    "final_file = os.path.abspath(os.path.join(directory5,'Final_File.fasta'))"
   ]
  },
  {
   "cell_type": "markdown",
   "metadata": {},
   "source": [
    "# =================== Functions ==================="
   ]
  },
  {
   "cell_type": "code",
   "execution_count": 4,
   "metadata": {
    "collapsed": true
   },
   "outputs": [],
   "source": [
    "def ModifyPosAndNeg(pos_in_prosite,pos_in_uniprot,neg_in):\n",
    "    '''Function to modify all headers in each fasta file, in order to have the same format in the headings'''   \n",
    "    # Positive PROSITE\n",
    "    pos_prosite = open(pos_in_prosite)\n",
    "    pos_prosite = pos_prosite.read()\n",
    "    index = 0\n",
    "    f = open(pos_out_prosite, 'w')\n",
    "    for line in pos_prosite.splitlines():\n",
    "        if line.startswith('>sp|'):\n",
    "            index += 1\n",
    "            header = line[line.find('>sp|'): line.index('|', line.index('|') + 1)]  +   str('|Positive')\n",
    "            print(header ,file=f)\n",
    "        else:\n",
    "            print(line , file=f)\n",
    "    f.close()    \n",
    "    # Positive UniProt\n",
    "    pos_uniprot = open(pos_in_uniprot)\n",
    "    pos_uniprot = pos_uniprot.read()    \n",
    "    index = 0\n",
    "    f = open(pos_out_uniprot, 'w')\n",
    "    for line in pos_uniprot.splitlines():\n",
    "        if line.startswith('>sp|'):\n",
    "            index += 1\n",
    "            header = line[line.find('>sp|'): line.index('|', line.index('|') + 1)]  +   str('|Positive')\n",
    "            print(header ,file=f)\n",
    "        else:\n",
    "            print(line , file=f)\n",
    "    f.close()    \n",
    "    # Negative\n",
    "    neg_uniprot = open(neg_in)\n",
    "    seq_neg = neg_uniprot.read()    \n",
    "    index = 0 \n",
    "    f = open(neg_out, 'w')\n",
    "    for line in seq_neg.splitlines():\n",
    "        if line.startswith('>sp|'):\n",
    "            index += 1\n",
    "            header = line[line.find('>sp|'): line.index('|', line.index('|') + 1)]   +   str('|Negative')\n",
    "            print(header , file=f)\n",
    "        else:\n",
    "            print(line , file=f)\n",
    "    f.close()   \n",
    "    return pos_out_prosite, pos_out_uniprot, neg_out"
   ]
  },
  {
   "cell_type": "code",
   "execution_count": 5,
   "metadata": {
    "collapsed": true
   },
   "outputs": [],
   "source": [
    "def ClusterPosAndNeg(cdhit_prosite,cdhit_uniprot_pos, cdhit_uniprot_neg):\n",
    "    '''Function to assign cluster number to the concerned protein, where the cluster number is obtained from CD-HIT'''  \n",
    "    # Add cluster number to header PROSITE pos\n",
    "    cd_prosite = open(cdhit_prosite)\n",
    "    cd_prosite = cd_prosite.read()  \n",
    "    f = open(cluster_prosite, 'w')\n",
    "    for line_cd in cd_prosite.splitlines():  \n",
    "        if line_cd.startswith('>Cluster'): \n",
    "            clusternr = '_' + line_cd[9:]\n",
    "        else:\n",
    "            line = line_cd[line_cd.find('>sp|'): line_cd.find('.')]\n",
    "            print(line + clusternr, file=f)\n",
    "            #if line_cd.endswith('*'):\n",
    "            #    line = line_cd[line_cd.find('>sp|'): line_cd.find('.')]\n",
    "            #    print(line + clusternr, file=f)\n",
    "            #else:\n",
    "             #   continue\n",
    "    f.close()                      \n",
    "    # Add cluster number to header UniProt pos\n",
    "    cd_uniprot = open(cdhit_uniprot_pos)\n",
    "    cd_uniprot = cd_uniprot.read()\n",
    "    f = open(cluster_uniprot, 'w')\n",
    "    for line_cd in cd_uniprot.splitlines():  \n",
    "        if line_cd.startswith('>Cluster'): \n",
    "            clusternr = '_' + line_cd[9:]\n",
    "        else:\n",
    "            line = line_cd[line_cd.find('>sp|'): line_cd.find('.')]\n",
    "            print(line + clusternr, file=f)\n",
    "            #if line_cd.endswith('*'):\n",
    "            #    line = line_cd[line_cd.find('>sp|'): line_cd.find('.')]\n",
    "            #    print(line + clusternr, file=f)\n",
    "            #else:\n",
    "            #    continue\n",
    "    f.close()  \n",
    "    # Add cluster number to header UniProt neg\n",
    "    cd_uniprot_n = open(cdhit_uniprot_neg)\n",
    "    cd_uniprot_n = cd_uniprot_n.read()\n",
    "    f = open(cluster_uniprot_neg, 'w')\n",
    "    for line_cd in cd_uniprot_n.splitlines():  \n",
    "        if line_cd.startswith('>Cluster'): \n",
    "            clusternr = '_' + line_cd[9:]\n",
    "        else:\n",
    "            line = line_cd[line_cd.find('>sp|'): line_cd.find('.')]\n",
    "            print(line + clusternr, file=f)\n",
    "            #if line_cd.endswith('*'):\n",
    "            #    line = line_cd[line_cd.find('>sp|'): line_cd.find('.')]\n",
    "            #    print(line + clusternr, file=f)\n",
    "            #else:\n",
    "            #    continue\n",
    "    f.close()\n",
    "    return cluster_prosite, cluster_uniprot, cluster_uniprot_neg"
   ]
  },
  {
   "cell_type": "code",
   "execution_count": 6,
   "metadata": {
    "collapsed": true
   },
   "outputs": [],
   "source": [
    "def FinalFiles(pos_out_prosite,pos_out_uniprot,neg_out,cluster_prosite,cluster_uniprot,cluster_uniprot_neg):\n",
    "    '''Function to concatenate the cluster number with the sequence, creating the final file with the desired format'''  \n",
    "    # Add cluster: pos(PROSITE)\n",
    "    prosite = open(pos_out_prosite)\n",
    "    prosite = prosite.read()\n",
    "    clus_prosite = open(cluster_prosite)\n",
    "    clus_prosite = clus_prosite.read() \n",
    "    Match = 0\n",
    "    f = open(final_prosite_pos, 'w')\n",
    "    for line_prosite in prosite.splitlines():\n",
    "        if line_prosite.startswith('>sp|'):\n",
    "            Match=0\n",
    "            for line_clus in clus_prosite.splitlines():\n",
    "                if line_prosite[0:18] == line_clus[0:18]:\n",
    "                    print(line_clus, file=f)\n",
    "                    Match = 1\n",
    "                    break\n",
    "        else:\n",
    "            if Match == 1:\n",
    "                print(line_prosite, file=f)\n",
    "    f.close( )\n",
    "    # Add cluster: pos(UniProt)\n",
    "    uniprot_p = open(pos_out_uniprot)\n",
    "    uniprot_p = uniprot_p.read()\n",
    "    clus_uniprot_p = open(cluster_uniprot)\n",
    "    clus_uniprot_p = clus_uniprot_p.read() \n",
    "    f = open(final_uniprot_pos, 'w')  \n",
    "    Match = 0\n",
    "    for line_p in uniprot_p.splitlines():\n",
    "        if line_p.startswith('>sp|'):\n",
    "            Match=0\n",
    "            for line_clus in clus_uniprot_p.splitlines():\n",
    "                if line_p[0:18] == line_clus[0:18]:\n",
    "                    print(line_clus, file=f)\n",
    "                    Match = 1\n",
    "                    break\n",
    "        else:\n",
    "            if Match == 1:\n",
    "                print(line_p, file=f)\n",
    "    f.close( )\n",
    "    # Add cluster: neg(UniProt)\n",
    "    uniprot_n = open(neg_out)\n",
    "    uniprot_n = uniprot_n.read()\n",
    "    clus_uniprot_n = open(cluster_uniprot_neg)\n",
    "    clus_uniprot_n = clus_uniprot_n.read() \n",
    "    f = open(final_uniprot_neg, 'w')  \n",
    "    Match = 0\n",
    "    for line_n in uniprot_n.splitlines():\n",
    "        if line_n.startswith('>sp|'):\n",
    "            Match=0\n",
    "            for line_clus in clus_uniprot_n.splitlines():\n",
    "                if line_n[0:18] == line_clus[0:18]:\n",
    "                    print(line_clus, file=f)\n",
    "                    Match = 1\n",
    "                    break\n",
    "        else:\n",
    "            if Match == 1:\n",
    "                print(line_n, file=f)\n",
    "    f.close( )\n",
    "    \n",
    "    # Concatenate files PROSITE(pos) + UniProt(neg)\n",
    "    files_conc = [final_prosite_pos, final_uniprot_neg]\n",
    "    with open(final_file, 'w') as outfile:\n",
    "        for fname in files_conc:\n",
    "            with open(fname) as infile:\n",
    "                outfile.write(infile.read())\n",
    "    \n",
    "    return final_uniprot_pos, final_uniprot_neg, final_prosite_pos, final_file"
   ]
  },
  {
   "cell_type": "markdown",
   "metadata": {},
   "source": [
    "# =================== Main ==================="
   ]
  },
  {
   "cell_type": "code",
   "execution_count": 7,
   "metadata": {
    "collapsed": true
   },
   "outputs": [],
   "source": [
    "pos_out_prosite, pos_out_uniprot, neg_out = ModifyPosAndNeg(pos_in_prosite,pos_in_uniprot,neg_in)\n",
    "cluster_prosite, cluster_uniprot, cluster_uniprot_neg = ClusterPosAndNeg(cdhit_prosite,cdhit_uniprot_pos,cdhit_uniprot_neg)\n",
    "final_uniprot_pos, final_uniprot_neg, final_prosite_pos, final_file  = FinalFiles(pos_out_prosite,pos_out_uniprot,neg_out,cluster_prosite,cluster_uniprot,cluster_uniprot_neg)"
   ]
  },
  {
   "cell_type": "code",
   "execution_count": null,
   "metadata": {
    "collapsed": true
   },
   "outputs": [],
   "source": []
  }
 ],
 "metadata": {
  "kernelspec": {
   "display_name": "Python 3",
   "language": "python",
   "name": "python3"
  },
  "language_info": {
   "codemirror_mode": {
    "name": "ipython",
    "version": 3
   },
   "file_extension": ".py",
   "mimetype": "text/x-python",
   "name": "python",
   "nbconvert_exporter": "python",
   "pygments_lexer": "ipython3",
   "version": "3.6.1"
  }
 },
 "nbformat": 4,
 "nbformat_minor": 2
}
