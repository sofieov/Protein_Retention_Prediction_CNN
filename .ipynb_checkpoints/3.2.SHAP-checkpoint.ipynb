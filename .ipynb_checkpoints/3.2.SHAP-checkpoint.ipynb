{
 "cells": [
  {
   "cell_type": "markdown",
   "metadata": {},
   "source": [
    "# =================== Import ==================="
   ]
  },
  {
   "cell_type": "code",
   "execution_count": 1,
   "metadata": {},
   "outputs": [
    {
     "name": "stderr",
     "output_type": "stream",
     "text": [
      "/Users/sofieolundvillumsen/anaconda/lib/python3.6/site-packages/h5py/__init__.py:34: FutureWarning: Conversion of the second argument of issubdtype from `float` to `np.floating` is deprecated. In future, it will be treated as `np.float64 == np.dtype(float).type`.\n",
      "  from ._conv import register_converters as _register_converters\n",
      "Using TensorFlow backend.\n"
     ]
    }
   ],
   "source": [
    "import numpy as np\n",
    "from keras.models import Sequential\n",
    "from keras.layers import Dense, Conv1D, MaxPooling1D, Embedding, Bidirectional, LSTM\n",
    "from keras.preprocessing import sequence\n",
    "import shap\n",
    "import matplotlib.pyplot as plt\n",
    "%matplotlib inline"
   ]
  },
  {
   "cell_type": "markdown",
   "metadata": {},
   "source": [
    "# =================== Variables ==================="
   ]
  },
  {
   "cell_type": "code",
   "execution_count": 2,
   "metadata": {
    "collapsed": true
   },
   "outputs": [],
   "source": [
    "data = np.load('2.CNN_Model/ER_dataset.npz')\n",
    "SHAP_file = ('3.DeepLoc_SHAP/Plot_SHAP.png')"
   ]
  },
  {
   "cell_type": "markdown",
   "metadata": {},
   "source": [
    "# =================== Functions ==================="
   ]
  },
  {
   "cell_type": "code",
   "execution_count": 3,
   "metadata": {
    "collapsed": true,
    "scrolled": true
   },
   "outputs": [],
   "source": [
    "\n",
    "    '''Function to run the CNN model'''\n",
    "    max_protein_length=100\n",
    "    input_dim=21\n",
    "    n_filters=96\n",
    "    kernel_size=6\n",
    "    maxpooling_size=2\n",
    "    activation='relu'\n",
    "    activation_out='sigmoid'\n",
    "    padding='same'\n",
    "    optimizer='adam'\n",
    "    loss='binary_crossentropy'\n",
    "    metrics=['accuracy']\n",
    "    n_classes=1\n",
    "    epochs=30\n",
    "    batch_size=64\n",
    "    verbose=1\n",
    "    X = data['input']\n",
    "    y = data['label']\n",
    "    part = data['partition']\n",
    "    test = 4\n",
    "    not_test = [0,1,2,3]\n",
    "\n",
    "    performances = []\n",
    "    # Cross validation loop\n",
    "    for partition in not_test:\n",
    "        train_indices = np.where((part != partition)&(part != test))\n",
    "        val_indices = np.where(part == partition)        \n",
    "        # Last 100aa in proteins\n",
    "        X = sequence.pad_sequences(X, maxlen=max_protein_length)\n",
    "        X = X[:,-max_protein_length:]\n",
    "        X_train = X[train_indices] \n",
    "        y_train = y[train_indices]\n",
    "        X_val = X[val_indices]\n",
    "        y_val = y[val_indices]\n",
    "        # Build model\n",
    "        model = Sequential()\n",
    "        model.add(Embedding(input_dim, 96))\n",
    "        model.add(MaxPooling1D(pool_size=maxpooling_size))\n",
    "        model.add(Conv1D(n_filters, kernel_size, activation=activation, padding=padding)) \n",
    "        model.add(Bidirectional(LSTM(16)))\n",
    "        model.add(Dense(15, activation=activation))\n",
    "        model.add(Dense(n_classes, activation=activation_out))\n",
    "        model.compile(optimizer=optimizer, loss=loss, metrics=metrics) \n",
    "        # Training model\n",
    "        model.fit(X_train, y_train, validation_data=(X_val, y_val), epochs=epochs, \n",
    "                  batch_size=batch_size, shuffle=True, verbose=verbose)\n",
    "        scores = model.evaluate(X_val, y_val)\n",
    "        print('Test loss:', scores[0])\n",
    "        print('Test accuracy:', scores[1], '\\n')\n",
    "        break"
   ]
  },
  {
   "cell_type": "code",
   "execution_count": 4,
   "metadata": {
    "collapsed": true
   },
   "outputs": [],
   "source": [
    "def SHAP(model,X_train,X_val):\n",
    "    e = shap.DeepExplainer(model, X_train[-100:])\n",
    "    shap_values = e.shap_values(X_val[-100:])\n",
    "    return shap_values"
   ]
  },
  {
   "cell_type": "code",
   "execution_count": 5,
   "metadata": {
    "collapsed": true
   },
   "outputs": [],
   "source": [
    "def SHAP_plot(shap_values):\n",
    "    #Plotting the values\n",
    "    fig_SHAP = plt.figure(figsize=(20,10))\n",
    "    plt.plot(np.arange(100), np.abs(np.mean(shap_values[0],axis=0)),color='skyblue', linewidth=2.5)\n",
    "    plt.ylabel(\"Importance of amino acid position\", fontsize=15)\n",
    "    plt.xlabel(\"Amino acid position\", fontsize=15)\n",
    "    fig_SHAP.savefig(SHAP_file,bbox_inches='tight')\n",
    "    plt.close()\n",
    "    return fig_SHAP"
   ]
  },
  {
   "cell_type": "markdown",
   "metadata": {},
   "source": [
    "# =================== Main ==================="
   ]
  },
  {
   "cell_type": "code",
   "execution_count": 6,
   "metadata": {},
   "outputs": [
    {
     "name": "stdout",
     "output_type": "stream",
     "text": [
      "Train on 1712 samples, validate on 576 samples\n",
      "Epoch 1/30\n",
      "1712/1712 [==============================] - 4s 3ms/step - loss: 0.5175 - acc: 0.8475 - val_loss: 0.4013 - val_acc: 0.8594\n",
      "Epoch 2/30\n",
      "1712/1712 [==============================] - 3s 2ms/step - loss: 0.3705 - acc: 0.8668 - val_loss: 0.3451 - val_acc: 0.8594\n",
      "Epoch 3/30\n",
      "1712/1712 [==============================] - 3s 2ms/step - loss: 0.2832 - acc: 0.8668 - val_loss: 0.2020 - val_acc: 0.9236\n",
      "Epoch 4/30\n",
      "1712/1712 [==============================] - 3s 2ms/step - loss: 0.1296 - acc: 0.9603 - val_loss: 0.0890 - val_acc: 0.9688\n",
      "Epoch 5/30\n",
      "1712/1712 [==============================] - 3s 2ms/step - loss: 0.0533 - acc: 0.9831 - val_loss: 0.0468 - val_acc: 0.9878\n",
      "Epoch 6/30\n",
      "1712/1712 [==============================] - 3s 2ms/step - loss: 0.0392 - acc: 0.9848 - val_loss: 0.0446 - val_acc: 0.9878\n",
      "Epoch 7/30\n",
      "1712/1712 [==============================] - 3s 2ms/step - loss: 0.0294 - acc: 0.9895 - val_loss: 0.0447 - val_acc: 0.9861\n",
      "Epoch 8/30\n",
      "1712/1712 [==============================] - 3s 2ms/step - loss: 0.0249 - acc: 0.9918 - val_loss: 0.0409 - val_acc: 0.9861\n",
      "Epoch 9/30\n",
      "1712/1712 [==============================] - 3s 2ms/step - loss: 0.0225 - acc: 0.9924 - val_loss: 0.0509 - val_acc: 0.9809\n",
      "Epoch 10/30\n",
      "1712/1712 [==============================] - 3s 2ms/step - loss: 0.0182 - acc: 0.9942 - val_loss: 0.0371 - val_acc: 0.9896\n",
      "Epoch 11/30\n",
      "1712/1712 [==============================] - 3s 2ms/step - loss: 0.0156 - acc: 0.9965 - val_loss: 0.0417 - val_acc: 0.9878\n",
      "Epoch 12/30\n",
      "1712/1712 [==============================] - 3s 2ms/step - loss: 0.0140 - acc: 0.9942 - val_loss: 0.0352 - val_acc: 0.9913\n",
      "Epoch 13/30\n",
      "1712/1712 [==============================] - 3s 1ms/step - loss: 0.0146 - acc: 0.9953 - val_loss: 0.0340 - val_acc: 0.9913\n",
      "Epoch 14/30\n",
      "1712/1712 [==============================] - 3s 2ms/step - loss: 0.0104 - acc: 0.9965 - val_loss: 0.0400 - val_acc: 0.9913\n",
      "Epoch 15/30\n",
      "1712/1712 [==============================] - 3s 2ms/step - loss: 0.0094 - acc: 0.9965 - val_loss: 0.0355 - val_acc: 0.9896\n",
      "Epoch 16/30\n",
      "1712/1712 [==============================] - 3s 2ms/step - loss: 0.0097 - acc: 0.9953 - val_loss: 0.0358 - val_acc: 0.9913\n",
      "Epoch 17/30\n",
      "1712/1712 [==============================] - 3s 2ms/step - loss: 0.0080 - acc: 0.9977 - val_loss: 0.0420 - val_acc: 0.9826\n",
      "Epoch 18/30\n",
      "1712/1712 [==============================] - 2s 1ms/step - loss: 0.0094 - acc: 0.9965 - val_loss: 0.0402 - val_acc: 0.9844\n",
      "Epoch 19/30\n",
      "1712/1712 [==============================] - 3s 2ms/step - loss: 0.0123 - acc: 0.9971 - val_loss: 0.0419 - val_acc: 0.9896\n",
      "Epoch 20/30\n",
      "1712/1712 [==============================] - 3s 2ms/step - loss: 0.0104 - acc: 0.9953 - val_loss: 0.0412 - val_acc: 0.9878\n",
      "Epoch 21/30\n",
      "1712/1712 [==============================] - 2s 1ms/step - loss: 0.0093 - acc: 0.9965 - val_loss: 0.0462 - val_acc: 0.9913\n",
      "Epoch 22/30\n",
      "1712/1712 [==============================] - 3s 2ms/step - loss: 0.0071 - acc: 0.9971 - val_loss: 0.0414 - val_acc: 0.9896\n",
      "Epoch 23/30\n",
      "1712/1712 [==============================] - 3s 1ms/step - loss: 0.0080 - acc: 0.9965 - val_loss: 0.0457 - val_acc: 0.9913\n",
      "Epoch 24/30\n",
      "1712/1712 [==============================] - 3s 1ms/step - loss: 0.0059 - acc: 0.9965 - val_loss: 0.0424 - val_acc: 0.9896\n",
      "Epoch 25/30\n",
      "1712/1712 [==============================] - 3s 2ms/step - loss: 0.0071 - acc: 0.9971 - val_loss: 0.0421 - val_acc: 0.9861\n",
      "Epoch 26/30\n",
      "1712/1712 [==============================] - 2s 1ms/step - loss: 0.0067 - acc: 0.9971 - val_loss: 0.0439 - val_acc: 0.9913\n",
      "Epoch 27/30\n",
      "1712/1712 [==============================] - 3s 2ms/step - loss: 0.0057 - acc: 0.9977 - val_loss: 0.0471 - val_acc: 0.9913\n",
      "Epoch 28/30\n",
      "1712/1712 [==============================] - 3s 2ms/step - loss: 0.0053 - acc: 0.9977 - val_loss: 0.0451 - val_acc: 0.9931\n",
      "Epoch 29/30\n",
      "1712/1712 [==============================] - 3s 2ms/step - loss: 0.0055 - acc: 0.9977 - val_loss: 0.0531 - val_acc: 0.9913\n",
      "Epoch 30/30\n",
      "1712/1712 [==============================] - 3s 2ms/step - loss: 0.0057 - acc: 0.9965 - val_loss: 0.0449 - val_acc: 0.9913\n",
      "576/576 [==============================] - 0s 432us/step\n",
      "Test loss: 0.04489792180902441\n",
      "Test accuracy: 0.9913194444444444 \n",
      "\n"
     ]
    },
    {
     "ename": "TypeError",
     "evalue": "'NoneType' object is not iterable",
     "output_type": "error",
     "traceback": [
      "\u001b[0;31m---------------------------------------------------------------------------\u001b[0m",
      "\u001b[0;31mTypeError\u001b[0m                                 Traceback (most recent call last)",
      "\u001b[0;32m<ipython-input-6-f9d5cf8f881f>\u001b[0m in \u001b[0;36m<module>\u001b[0;34m()\u001b[0m\n\u001b[0;32m----> 1\u001b[0;31m \u001b[0mmodel\u001b[0m\u001b[0;34m,\u001b[0m \u001b[0mX_train\u001b[0m\u001b[0;34m,\u001b[0m \u001b[0mX_val\u001b[0m \u001b[0;34m=\u001b[0m \u001b[0mModel\u001b[0m\u001b[0;34m(\u001b[0m\u001b[0mdata\u001b[0m\u001b[0;34m)\u001b[0m\u001b[0;34m\u001b[0m\u001b[0m\n\u001b[0m",
      "\u001b[0;31mTypeError\u001b[0m: 'NoneType' object is not iterable"
     ]
    }
   ],
   "source": [
    "model, X_train, X_val = Model(data)"
   ]
  },
  {
   "cell_type": "code",
   "execution_count": 7,
   "metadata": {},
   "outputs": [
    {
     "ename": "NameError",
     "evalue": "name 'model' is not defined",
     "output_type": "error",
     "traceback": [
      "\u001b[0;31m---------------------------------------------------------------------------\u001b[0m",
      "\u001b[0;31mNameError\u001b[0m                                 Traceback (most recent call last)",
      "\u001b[0;32m<ipython-input-7-9acbbdb441c1>\u001b[0m in \u001b[0;36m<module>\u001b[0;34m()\u001b[0m\n\u001b[0;32m----> 1\u001b[0;31m \u001b[0mshap_values\u001b[0m \u001b[0;34m=\u001b[0m \u001b[0mSHAP\u001b[0m\u001b[0;34m(\u001b[0m\u001b[0mmodel\u001b[0m\u001b[0;34m,\u001b[0m \u001b[0mX_train\u001b[0m\u001b[0;34m,\u001b[0m \u001b[0mX_val\u001b[0m\u001b[0;34m)\u001b[0m\u001b[0;34m\u001b[0m\u001b[0m\n\u001b[0m",
      "\u001b[0;31mNameError\u001b[0m: name 'model' is not defined"
     ]
    }
   ],
   "source": [
    "shap_values = SHAP(model, X_train, X_val)"
   ]
  },
  {
   "cell_type": "code",
   "execution_count": 136,
   "metadata": {
    "collapsed": true
   },
   "outputs": [],
   "source": [
    "fig_SHAP = SHAP_plot(shap_values)"
   ]
  }
 ],
 "metadata": {
  "kernelspec": {
   "display_name": "Python 3",
   "language": "python",
   "name": "python3"
  },
  "language_info": {
   "codemirror_mode": {
    "name": "ipython",
    "version": 3
   },
   "file_extension": ".py",
   "mimetype": "text/x-python",
   "name": "python",
   "nbconvert_exporter": "python",
   "pygments_lexer": "ipython3",
   "version": "3.6.1"
  }
 },
 "nbformat": 4,
 "nbformat_minor": 2
}
