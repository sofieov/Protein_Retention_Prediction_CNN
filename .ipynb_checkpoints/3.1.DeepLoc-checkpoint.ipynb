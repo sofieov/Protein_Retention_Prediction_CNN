{
 "cells": [
  {
   "cell_type": "markdown",
   "metadata": {},
   "source": [
    "# =================== Import ==================="
   ]
  },
  {
   "cell_type": "code",
   "execution_count": 1,
   "metadata": {
    "collapsed": true
   },
   "outputs": [],
   "source": [
    "import numpy as np\n",
    "import scipy.stats\n",
    "from pathlib import Path\n",
    "import os\n",
    "%matplotlib inline\n",
    "import matplotlib.pyplot as plt\n",
    "from math import sqrt\n",
    "from numpy.random import seed\n",
    "from numpy.random import randn\n",
    "from numpy import mean\n",
    "from scipy.stats import sem\n",
    "from scipy.stats import t"
   ]
  },
  {
   "cell_type": "markdown",
   "metadata": {},
   "source": [
    "# =================== Variables ==================="
   ]
  },
  {
   "cell_type": "code",
   "execution_count": 2,
   "metadata": {
    "collapsed": true
   },
   "outputs": [],
   "source": [
    "data = np.load('2.CNN_Model/ER_dataset.npz')\n",
    "dir_pos_att_values = ('3.DeepLoc_SHAP/Pos_Output_Attention/')\n",
    "dir_neg_att_values = ('3.DeepLoc_SHAP/Neg_Output_Attention')\n",
    "boxplot_file = ('3.DeepLoc_SHAP/Plot_Boxplot_PosNeg_NormalizedAttValues.png')\n",
    "plot_p_values_file = ('3.DeepLoc_SHAP/Plot_p_values_alpha.png')\n",
    "plot_his_p_values_file = ('3.DeepLoc_SHAP/Plot_his_p_values_alpha.png')"
   ]
  },
  {
   "cell_type": "markdown",
   "metadata": {},
   "source": [
    "# =================== Functions ==================="
   ]
  },
  {
   "cell_type": "code",
   "execution_count": 3,
   "metadata": {
    "collapsed": true
   },
   "outputs": [],
   "source": [
    "def normalizing_pos():\n",
    "    '''Function to normalize the attention values of the proteins, before only using the last 100aa in the sequence'''\n",
    "    directory = (dir_pos_att_values)\n",
    "    pos_att_matrix_raw = np.array([])\n",
    "    pos_att_matrix = np.array([])\n",
    "    for file in os.listdir(directory):\n",
    "        if file.endswith(\".txt\") and not file.endswith('output.txt'): \n",
    "            file = os.path.join(directory, file)\n",
    "            f = open(file)        \n",
    "            att_vec = []\n",
    "            for line in f:\n",
    "                if not line.startswith('#'):\n",
    "                    line = line.strip().split()\n",
    "                    att_vec.append(float(line[2]))\n",
    "            # The attention values are normalized   \n",
    "            mean_att = np.mean(att_vec)\n",
    "            std_att = np.std(att_vec) \n",
    "            norm = [(float(i)-mean_att)/std_att for i in att_vec]\n",
    "            # The last 100 aa are extracted\n",
    "            norm_100 = norm[-100:]\n",
    "            norm_100 = np.asarray(norm_100)\n",
    "            if pos_att_matrix.size == 0:\n",
    "                pos_att_matrix = np.hstack((pos_att_matrix, norm_100))                    \n",
    "            else: \n",
    "                pos_att_matrix = np.vstack((pos_att_matrix, norm_100))        \n",
    "        else:\n",
    "            continue \n",
    "    return pos_att_matrix"
   ]
  },
  {
   "cell_type": "code",
   "execution_count": 4,
   "metadata": {
    "collapsed": true
   },
   "outputs": [],
   "source": [
    "def normalizing_neg():\n",
    "    '''Function to normalize the attention values of the proteins, before only using the last 100aa in the sequence'''\n",
    "    directory = (dir_neg_att_values)\n",
    "    neg_att_matrix_raw = np.array([])\n",
    "    neg_att_matrix = np.array([])\n",
    "    for file in os.listdir(directory):\n",
    "        if file.endswith(\".txt\") and not file.endswith('output.txt'): \n",
    "            file = os.path.join(directory, file)\n",
    "            f = open(file)        \n",
    "            att_vec = []\n",
    "            for line in f:\n",
    "                if not line.startswith('#'):\n",
    "                    line = line.strip().split()\n",
    "                    att_vec.append(float(line[2]))\n",
    "            # The attention values are normalized   \n",
    "            mean_att = np.mean(att_vec)\n",
    "            std_att = np.std(att_vec) \n",
    "            norm = [(float(i)-mean_att)/std_att for i in att_vec]\n",
    "            # The last 100 aa are extracted\n",
    "            norm_100 = norm[-100:]\n",
    "            norm_100 = np.asarray(norm_100)\n",
    "            if neg_att_matrix.size == 0:\n",
    "                neg_att_matrix = np.hstack((neg_att_matrix, norm_100))\n",
    "            else:\n",
    "                if np.size(norm_100) == 100:\n",
    "                    neg_att_matrix = np.vstack((neg_att_matrix, norm_100))   \n",
    "                    #neg_att_matrix = np.vstack((neg_att_matrix, norm_100))        \n",
    "        else:\n",
    "            continue \n",
    "    return neg_att_matrix\n"
   ]
  },
  {
   "cell_type": "code",
   "execution_count": 10,
   "metadata": {
    "collapsed": true
   },
   "outputs": [],
   "source": [
    "def concatenated_boxplot(pos_att_matrix,neg_att_matrix):\n",
    "    '''Function to make a concatenated boxplot of the normalized attention values of the last 10 positions'''\n",
    "    pos_10 = pos_att_matrix[:,-10:]\n",
    "    neg_10 = neg_att_matrix[:,-10:]\n",
    "\n",
    "\n",
    "    def draw_plot(data, offset,edge_color, fill_color):\n",
    "        pos = np.arange(data.shape[1])+offset+1\n",
    "        bp = ax.boxplot(data, positions= pos, widths=0.40, patch_artist=True, manage_xticks=False, showfliers=False)\n",
    "        for element in ['boxes', 'whiskers', 'fliers', 'medians', 'caps']:\n",
    "            plt.setp(bp[element], color=edge_color)\n",
    "        for patch in bp['boxes']:\n",
    "            patch.set(facecolor=fill_color)\n",
    "\n",
    "    fig, ax = plt.subplots()\n",
    "    draw_plot(pos_10, -0.2, \"tomato\",\"red\")\n",
    "    draw_plot(neg_10, +0.2,\"lightblue\", \"skyblue\")\n",
    "\n",
    "    plt.ylabel(\"Normalized attention value\", fontsize=10)\n",
    "    plt.xlabel(\"Amino acid position\", fontsize=10)\n",
    "    plt.ylim(-1,4.5)\n",
    "    plt.xticks(np.arange(0, 11, 1))\n",
    "    # Adding legends to the plot\n",
    "    plt.gca().legend([\"Positives\",\"Negatives\"],loc=2,fontsize = 'medium')\n",
    "    # Save figure to file\n",
    "    fig.savefig(boxplot_file,bbox_inches='tight')\n",
    "    plt.close()\n",
    "    return fig, pos_10, neg_10"
   ]
  },
  {
   "cell_type": "code",
   "execution_count": 15,
   "metadata": {
    "collapsed": true
   },
   "outputs": [],
   "source": [
    "def t_test(pos_10,neg_10):\n",
    "    '''Function to make a t-test for the independent samples positives and negatives'''\n",
    "    alpha = 0.05 #95% confidence interval\n",
    "    t_val = []\n",
    "    p_val = []\n",
    "    for i in range(len(pos_10[0,:])):\n",
    "        # calculate means\n",
    "        mean1, mean2 = mean(pos_10[:,i]), mean(neg_10[:,i])\n",
    "        # calculate standard errors\n",
    "        se1, se2 = sem(pos_10[:,i]), sem(neg_10[:,i])\n",
    "        # standard error on the difference between the samples\n",
    "        sed = sqrt(se1**2.0 + se2**2.0)\n",
    "        # calculate the t statistic\n",
    "        t_stat = (mean1 - mean2) / sed\n",
    "        # degrees of freedom\n",
    "        df = len(pos_10[:,i]) + len(neg_10[:,i]) - 2\n",
    "        # calculate the critical value\n",
    "        cv = t.ppf(1.0 - alpha, df) #The critical value is calculated by using the confidence interval\n",
    "        # calculate the p-value\n",
    "        p = (1.0 - t.cdf(abs(t_stat), df)) * 2.0\n",
    "        t_val.append(t_stat)\n",
    "        p_val.append(p)\n",
    "        print('t=%.3f, df=%d, cv=%.3f, p=%.3f' % (t_stat, df, cv, p))\n",
    "\n",
    "        # interpret via critical value\n",
    "        if abs(t_stat) <= cv:\n",
    "            print('cv: Accept null hypothesis that the means are equal.')\n",
    "        else:\n",
    "            print('cv: Reject the null hypothesis that the means are equal.')\n",
    "        \n",
    "        # interpret via p-value\n",
    "        if p > alpha:\n",
    "            print('p: Accept null hypothesis that the means are equal.')\n",
    "        else:\n",
    "            print('p: Reject the null hypothesis that the means are equal.')\n",
    "    return t_val,p_val,alpha"
   ]
  },
  {
   "cell_type": "code",
   "execution_count": 16,
   "metadata": {
    "collapsed": true
   },
   "outputs": [],
   "source": [
    "def p_values_plot(p_val,alpha): \n",
    "    '''Function to save plot over p-values in a file'''\n",
    "    # Plot showing the p-values\n",
    "    fig_p = plt.figure(figsize=(20,10))\n",
    "    plt.plot(p_val, linewidth=2.5, color='skyblue')\n",
    "    plt.hlines(y=alpha, xmin=0, xmax=9, linewidth=2.5, color='red')\n",
    "    # Adding legends to the plot\n",
    "    plt.gca().legend(('p-values','Alpha = 0.05'),fontsize = 'large')\n",
    "    plt.ylabel(\"p-value\", fontsize=15)\n",
    "    plt.xlabel(\"Amino acid position\", fontsize=15)\n",
    "    plt.savefig(plot_p_values_file)\n",
    "    plt.close()\n",
    "    return fig_p"
   ]
  },
  {
   "cell_type": "code",
   "execution_count": 17,
   "metadata": {
    "collapsed": true
   },
   "outputs": [],
   "source": [
    "def p_values_his(p_val,alpha): \n",
    "    '''Function to save plot over p-values in a file'''\n",
    "    if p_val[0] == 0:\n",
    "        None\n",
    "    else:\n",
    "        p_val = np.insert(p_val,0,0)\n",
    "    his_p_value = plt.figure(figsize=(20,10))\n",
    "    plt.bar(np.arange(len(p_val)), p_val,color='skyblue')\n",
    "    plt.hlines(y=alpha, xmin=0.5, xmax=11, linewidth=2.5, color='red')\n",
    "    # Adding legends to the plot\n",
    "    plt.gca().legend(('Alpha = 0.05','p-values'),fontsize = 'large')\n",
    "    plt.xlim([0.5, 9.5])\n",
    "    plt.xticks(np.arange(1, 12,1))\n",
    "    plt.ylabel(\"p-value\", fontsize=15)\n",
    "    plt.xlabel(\"Amino acid position\", fontsize=15)\n",
    "    #plt.show()\n",
    "    plt.savefig(plot_his_p_values_file)\n",
    "    plt.close()\n",
    "    return his_p_value"
   ]
  },
  {
   "cell_type": "markdown",
   "metadata": {},
   "source": [
    "# =================== Main ==================="
   ]
  },
  {
   "cell_type": "code",
   "execution_count": 18,
   "metadata": {},
   "outputs": [
    {
     "name": "stdout",
     "output_type": "stream",
     "text": [
      "t=-2.153, df=2226, cv=1.646, p=0.031\n",
      "cv: Reject the null hypothesis that the means are equal.\n",
      "p: Reject the null hypothesis that the means are equal.\n",
      "t=-1.749, df=2226, cv=1.646, p=0.080\n",
      "cv: Reject the null hypothesis that the means are equal.\n",
      "p: Accept null hypothesis that the means are equal.\n",
      "t=-0.544, df=2226, cv=1.646, p=0.587\n",
      "cv: Accept null hypothesis that the means are equal.\n",
      "p: Accept null hypothesis that the means are equal.\n",
      "t=-0.297, df=2226, cv=1.646, p=0.766\n",
      "cv: Accept null hypothesis that the means are equal.\n",
      "p: Accept null hypothesis that the means are equal.\n",
      "t=-0.095, df=2226, cv=1.646, p=0.924\n",
      "cv: Accept null hypothesis that the means are equal.\n",
      "p: Accept null hypothesis that the means are equal.\n",
      "t=1.493, df=2226, cv=1.646, p=0.136\n",
      "cv: Accept null hypothesis that the means are equal.\n",
      "p: Accept null hypothesis that the means are equal.\n",
      "t=-2.224, df=2226, cv=1.646, p=0.026\n",
      "cv: Reject the null hypothesis that the means are equal.\n",
      "p: Reject the null hypothesis that the means are equal.\n",
      "t=-10.021, df=2226, cv=1.646, p=0.000\n",
      "cv: Reject the null hypothesis that the means are equal.\n",
      "p: Reject the null hypothesis that the means are equal.\n",
      "t=-16.143, df=2226, cv=1.646, p=0.000\n",
      "cv: Reject the null hypothesis that the means are equal.\n",
      "p: Reject the null hypothesis that the means are equal.\n",
      "t=-16.213, df=2226, cv=1.646, p=0.000\n",
      "cv: Reject the null hypothesis that the means are equal.\n",
      "p: Reject the null hypothesis that the means are equal.\n"
     ]
    }
   ],
   "source": [
    "pos_att_matrix = normalizing_pos()\n",
    "neg_att_matrix = normalizing_neg() #Shape under 2474 proteiner, da der er nogle protein under 100aa\n",
    "fig,pos_10,neg_10 = concatenated_boxplot(neg_att_matrix,pos_att_matrix)\n",
    "t_val,p_val,alpha = t_test(pos_10,neg_10)\n",
    "fig_p = p_values_plot(p_val,alpha)\n",
    "his_p_value = p_values_his(p_val,alpha)"
   ]
  },
  {
   "cell_type": "code",
   "execution_count": null,
   "metadata": {
    "collapsed": true
   },
   "outputs": [],
   "source": []
  },
  {
   "cell_type": "code",
   "execution_count": null,
   "metadata": {
    "collapsed": true
   },
   "outputs": [],
   "source": []
  }
 ],
 "metadata": {
  "kernelspec": {
   "display_name": "Python 3",
   "language": "python",
   "name": "python3"
  },
  "language_info": {
   "codemirror_mode": {
    "name": "ipython",
    "version": 3
   },
   "file_extension": ".py",
   "mimetype": "text/x-python",
   "name": "python",
   "nbconvert_exporter": "python",
   "pygments_lexer": "ipython3",
   "version": "3.6.1"
  }
 },
 "nbformat": 4,
 "nbformat_minor": 2
}
