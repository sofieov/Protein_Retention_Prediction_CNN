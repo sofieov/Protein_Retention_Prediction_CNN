{
 "cells": [
  {
   "cell_type": "markdown",
   "metadata": {},
   "source": [
    "# =================== Import ==================="
   ]
  },
  {
   "cell_type": "code",
   "execution_count": 8,
   "metadata": {
    "collapsed": true
   },
   "outputs": [],
   "source": [
    "import numpy as np\n",
    "from keras.models import Sequential\n",
    "from keras.layers import Dense, Conv1D, MaxPooling1D, Embedding, Bidirectional, LSTM\n",
    "from keras.preprocessing import sequence\n",
    "import shap\n",
    "import matplotlib.pyplot as plt\n",
    "%matplotlib inline"
   ]
  },
  {
   "cell_type": "markdown",
   "metadata": {},
   "source": [
    "# =================== Variables ==================="
   ]
  },
  {
   "cell_type": "code",
   "execution_count": 9,
   "metadata": {
    "collapsed": true
   },
   "outputs": [],
   "source": [
    "data = np.load('2.CNN_Model/ER_dataset.npz')\n",
    "SHAP_file = ('3.DeepLoc_SHAP/Plot_SHAP.png')"
   ]
  },
  {
   "cell_type": "markdown",
   "metadata": {},
   "source": [
    "# =================== CNN model ==================="
   ]
  },
  {
   "cell_type": "code",
   "execution_count": 10,
   "metadata": {
    "scrolled": true
   },
   "outputs": [
    {
     "name": "stdout",
     "output_type": "stream",
     "text": [
      "Train on 1712 samples, validate on 576 samples\n",
      "Epoch 1/30\n",
      "1712/1712 [==============================] - 4s 2ms/step - loss: 0.4934 - acc: 0.8446 - val_loss: 0.3991 - val_acc: 0.8594\n",
      "Epoch 2/30\n",
      "1712/1712 [==============================] - 2s 1ms/step - loss: 0.3520 - acc: 0.8668 - val_loss: 0.2995 - val_acc: 0.8594\n",
      "Epoch 3/30\n",
      "1712/1712 [==============================] - 3s 2ms/step - loss: 0.2250 - acc: 0.8832 - val_loss: 0.1531 - val_acc: 0.9670\n",
      "Epoch 4/30\n",
      "1712/1712 [==============================] - 2s 1ms/step - loss: 0.0954 - acc: 0.9761 - val_loss: 0.0781 - val_acc: 0.9722\n",
      "Epoch 5/30\n",
      "1712/1712 [==============================] - 3s 2ms/step - loss: 0.0430 - acc: 0.9866 - val_loss: 0.0498 - val_acc: 0.9809\n",
      "Epoch 6/30\n",
      "1712/1712 [==============================] - 2s 1ms/step - loss: 0.0333 - acc: 0.9895 - val_loss: 0.0533 - val_acc: 0.9826\n",
      "Epoch 7/30\n",
      "1712/1712 [==============================] - 3s 2ms/step - loss: 0.0257 - acc: 0.9930 - val_loss: 0.0552 - val_acc: 0.9826\n",
      "Epoch 8/30\n",
      "1712/1712 [==============================] - 2s 1ms/step - loss: 0.0236 - acc: 0.9930 - val_loss: 0.0628 - val_acc: 0.9809\n",
      "Epoch 9/30\n",
      "1712/1712 [==============================] - 3s 2ms/step - loss: 0.0200 - acc: 0.9912 - val_loss: 0.0607 - val_acc: 0.9844\n",
      "Epoch 10/30\n",
      "1712/1712 [==============================] - 2s 1ms/step - loss: 0.0187 - acc: 0.9930 - val_loss: 0.0483 - val_acc: 0.9844\n",
      "Epoch 11/30\n",
      "1712/1712 [==============================] - 2s 1ms/step - loss: 0.0141 - acc: 0.9942 - val_loss: 0.0487 - val_acc: 0.9861\n",
      "Epoch 12/30\n",
      "1712/1712 [==============================] - 2s 1ms/step - loss: 0.0144 - acc: 0.9936 - val_loss: 0.0561 - val_acc: 0.9844\n",
      "Epoch 13/30\n",
      "1712/1712 [==============================] - 2s 1ms/step - loss: 0.0113 - acc: 0.9953 - val_loss: 0.0479 - val_acc: 0.9861\n",
      "Epoch 14/30\n",
      "1712/1712 [==============================] - 3s 2ms/step - loss: 0.0142 - acc: 0.9947 - val_loss: 0.0465 - val_acc: 0.9861\n",
      "Epoch 15/30\n",
      "1712/1712 [==============================] - 2s 1ms/step - loss: 0.0144 - acc: 0.9947 - val_loss: 0.0507 - val_acc: 0.9878\n",
      "Epoch 16/30\n",
      "1712/1712 [==============================] - 2s 1ms/step - loss: 0.0090 - acc: 0.9953 - val_loss: 0.0523 - val_acc: 0.9809\n",
      "Epoch 17/30\n",
      "1712/1712 [==============================] - 2s 1ms/step - loss: 0.0078 - acc: 0.9965 - val_loss: 0.0542 - val_acc: 0.9896\n",
      "Epoch 18/30\n",
      "1712/1712 [==============================] - 2s 1ms/step - loss: 0.0076 - acc: 0.9977 - val_loss: 0.0599 - val_acc: 0.9844\n",
      "Epoch 19/30\n",
      "1712/1712 [==============================] - 2s 1ms/step - loss: 0.0085 - acc: 0.9971 - val_loss: 0.0526 - val_acc: 0.9878\n",
      "Epoch 20/30\n",
      "1712/1712 [==============================] - 2s 1ms/step - loss: 0.0098 - acc: 0.9959 - val_loss: 0.0926 - val_acc: 0.9757\n",
      "Epoch 21/30\n",
      "1712/1712 [==============================] - 2s 1ms/step - loss: 0.0203 - acc: 0.9942 - val_loss: 0.0580 - val_acc: 0.9844\n",
      "Epoch 22/30\n",
      "1712/1712 [==============================] - 3s 1ms/step - loss: 0.0091 - acc: 0.9965 - val_loss: 0.0508 - val_acc: 0.9896\n",
      "Epoch 23/30\n",
      "1712/1712 [==============================] - 2s 1ms/step - loss: 0.0077 - acc: 0.9965 - val_loss: 0.0615 - val_acc: 0.9844\n",
      "Epoch 24/30\n",
      "1712/1712 [==============================] - 3s 2ms/step - loss: 0.0082 - acc: 0.9971 - val_loss: 0.0521 - val_acc: 0.9896\n",
      "Epoch 25/30\n",
      "1712/1712 [==============================] - 3s 2ms/step - loss: 0.0063 - acc: 0.9977 - val_loss: 0.0517 - val_acc: 0.9878\n",
      "Epoch 26/30\n",
      "1712/1712 [==============================] - 2s 1ms/step - loss: 0.0064 - acc: 0.9977 - val_loss: 0.0514 - val_acc: 0.9896\n",
      "Epoch 27/30\n",
      "1712/1712 [==============================] - 2s 1ms/step - loss: 0.0062 - acc: 0.9965 - val_loss: 0.0552 - val_acc: 0.9896\n",
      "Epoch 28/30\n",
      "1712/1712 [==============================] - 2s 1ms/step - loss: 0.0056 - acc: 0.9953 - val_loss: 0.0536 - val_acc: 0.9896\n",
      "Epoch 29/30\n",
      "1712/1712 [==============================] - 3s 1ms/step - loss: 0.0070 - acc: 0.9977 - val_loss: 0.0567 - val_acc: 0.9844\n",
      "Epoch 30/30\n",
      "1712/1712 [==============================] - 3s 2ms/step - loss: 0.0082 - acc: 0.9959 - val_loss: 0.0565 - val_acc: 0.9844\n",
      "576/576 [==============================] - 0s 460us/step\n",
      "Test loss: 0.056531849517417264\n",
      "Test accuracy: 0.984375 \n",
      "\n"
     ]
    }
   ],
   "source": [
    "'''Run the CNN model'''\n",
    "max_protein_length=100\n",
    "input_dim=21\n",
    "n_filters=96\n",
    "kernel_size=6\n",
    "maxpooling_size=2\n",
    "activation='relu'\n",
    "activation_out='sigmoid'\n",
    "padding='same'\n",
    "optimizer='adam'\n",
    "loss='binary_crossentropy'\n",
    "metrics=['accuracy']\n",
    "n_classes=1\n",
    "epochs=30\n",
    "batch_size=64\n",
    "verbose=1\n",
    "X = data['input']\n",
    "y = data['label']\n",
    "part = data['partition']\n",
    "test = 4\n",
    "not_test = [0,1,2,3]\n",
    "\n",
    "performances = []\n",
    "# Cross validation loop\n",
    "for partition in not_test:\n",
    "    train_indices = np.where((part != partition)&(part != test))\n",
    "    val_indices = np.where(part == partition)        \n",
    "    # Last 100aa in proteins\n",
    "    X = sequence.pad_sequences(X, maxlen=max_protein_length)\n",
    "    X = X[:,-max_protein_length:]\n",
    "    X_train = X[train_indices] \n",
    "    y_train = y[train_indices]\n",
    "    X_val = X[val_indices]\n",
    "    y_val = y[val_indices]\n",
    "    # Build model\n",
    "    model = Sequential()\n",
    "    model.add(Embedding(input_dim, 96))\n",
    "    model.add(MaxPooling1D(pool_size=maxpooling_size))\n",
    "    model.add(Conv1D(n_filters, kernel_size, activation=activation, padding=padding)) \n",
    "    model.add(Bidirectional(LSTM(16)))\n",
    "    model.add(Dense(15, activation=activation))\n",
    "    model.add(Dense(n_classes, activation=activation_out))\n",
    "    model.compile(optimizer=optimizer, loss=loss, metrics=metrics) \n",
    "    # Training model\n",
    "    model.fit(X_train, y_train, validation_data=(X_val, y_val), epochs=epochs, \n",
    "              batch_size=batch_size, shuffle=True, verbose=verbose)\n",
    "    scores = model.evaluate(X_val, y_val)\n",
    "    print('Test loss:', scores[0])\n",
    "    print('Test accuracy:', scores[1], '\\n')\n",
    "    break"
   ]
  },
  {
   "cell_type": "markdown",
   "metadata": {},
   "source": [
    "# =================== Functions ==================="
   ]
  },
  {
   "cell_type": "code",
   "execution_count": 11,
   "metadata": {
    "collapsed": true
   },
   "outputs": [],
   "source": [
    "def SHAP(model,X_train,X_val):\n",
    "    e = shap.DeepExplainer(model, X_train[-100:])\n",
    "    shap_values = e.shap_values(X_val[-100:])\n",
    "    return shap_values"
   ]
  },
  {
   "cell_type": "code",
   "execution_count": 12,
   "metadata": {
    "collapsed": true
   },
   "outputs": [],
   "source": [
    "def SHAP_plot(shap_values):\n",
    "    #Plotting the values\n",
    "    fig_SHAP = plt.figure(figsize=(20,10))\n",
    "    plt.plot(np.arange(100), np.abs(np.mean(shap_values[0],axis=0)),color='skyblue', linewidth=2.5)\n",
    "    plt.ylabel(\"Importance of amino acid position\", fontsize=15)\n",
    "    plt.xlabel(\"Amino acid position\", fontsize=15)\n",
    "    fig_SHAP.savefig(SHAP_file,bbox_inches='tight')\n",
    "    plt.close()\n",
    "    return fig_SHAP"
   ]
  },
  {
   "cell_type": "markdown",
   "metadata": {},
   "source": [
    "# =================== Main ==================="
   ]
  },
  {
   "cell_type": "code",
   "execution_count": 16,
   "metadata": {
    "collapsed": true
   },
   "outputs": [],
   "source": [
    "shap_values = SHAP(model, X_train, X_val)"
   ]
  },
  {
   "cell_type": "code",
   "execution_count": 17,
   "metadata": {
    "collapsed": true
   },
   "outputs": [],
   "source": [
    "fig_SHAP = SHAP_plot(shap_values)"
   ]
  }
 ],
 "metadata": {
  "kernelspec": {
   "display_name": "Python 3",
   "language": "python",
   "name": "python3"
  },
  "language_info": {
   "codemirror_mode": {
    "name": "ipython",
    "version": 3
   },
   "file_extension": ".py",
   "mimetype": "text/x-python",
   "name": "python",
   "nbconvert_exporter": "python",
   "pygments_lexer": "ipython3",
   "version": "3.6.1"
  }
 },
 "nbformat": 4,
 "nbformat_minor": 2
}
